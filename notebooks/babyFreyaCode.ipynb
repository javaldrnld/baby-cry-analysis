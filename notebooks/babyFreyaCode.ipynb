{
 "cells": [
  {
   "cell_type": "code",
   "execution_count": null,
   "id": "50d1ce8e-f410-4319-80f5-b1db167231a2",
   "metadata": {},
   "outputs": [],
   "source": []
  },
  {
   "cell_type": "code",
   "execution_count": 3,
   "id": "bc97a0f9-53c6-44cc-99ff-816bc6af6e64",
   "metadata": {},
   "outputs": [],
   "source": [
    "import os\n",
    "import pandas as pd\n",
    "import librosa\n",
    "import numpy as np\n",
    "from sklearn.model_selection import train_test_split\n",
    "from sklearn.ensemble import RandomForestClassifier\n",
    "from sklearn.linear_model import LogisticRegression\n",
    "from sklearn.tree import DecisionTreeClassifier\n",
    "from sklearn.svm import SVC\n",
    "import tensorflow as tf\n",
    "from sklearn.preprocessing import LabelEncoder\n",
    "from sklearn.metrics import accuracy_score, precision_score, recall_score\n",
    "from tensorflow.keras.models import Sequential\n",
    "from tensorflow.keras.layers import LSTM, Dense, Dropout\n",
    "import pickle\n",
    "from collections import Counter\n",
    "from pydub import AudioSegment\n",
    "from io import BytesIO\n",
    "import wave\n",
    "import math\n",
    "import uuid"
   ]
  },
  {
   "cell_type": "code",
   "execution_count": 14,
   "id": "3449ee1b-3dac-422b-984a-968c14dc7133",
   "metadata": {},
   "outputs": [],
   "source": [
    "# Define raw audio dictionary\n",
    "raw_audio = {}\n",
    "\n",
    "# Loop through directioris and label audio files\n",
    "directories = ['belly_pain', 'burping', 'discomfort', 'hungry', 'tired']\n",
    "for directory in directories:\n",
    "    path = '../data/donateacry_corpus/' + directory\n",
    "    for filename in os.listdir(path):\n",
    "        if filename.endswith(\".wav\"):\n",
    "            raw_audio[os.path.join(path, filename)] = directory"
   ]
  },
  {
   "cell_type": "code",
   "execution_count": 15,
   "id": "722d4018-9187-4743-a2f0-6549068b47b1",
   "metadata": {},
   "outputs": [],
   "source": [
    "# Define function to extract MFCC features and chop audio\n",
    "def extract_mfcc(audio_file, max_length=100):\n",
    "    audiofile, sr = librosa.load(audio_file)\n",
    "    fingerprint = librosa.feature.mfcc(y=audiofile, sr=sr, n_mfcc=20)\n",
    "    if fingerprint.shape[1] < max_length:\n",
    "        pad_width = max_length - fingerprint.shape[1]\n",
    "        fingerprint_padded = np.pad(fingerprint, pad_width=((0, 0), (0, pad_width)), mode='constant')\n",
    "        return fingerprint_padded.T\n",
    "    elif fingerprint.shape[1] > max_length:\n",
    "        return fingerprint[:, :max_length].T\n",
    "    else:\n",
    "        return fingerprint.T\n",
    "\n",
    "\n",
    "# Chop audio and extract MFCC features for each track\n",
    "X = []\n",
    "y = []\n",
    "max_length = 100\n",
    "\n",
    "for i, (audio_file, label) in enumerate(raw_audio.items()):\n",
    "    mfcc_features = extract_mfcc(audio_file, max_length=max_length)\n",
    "    X.append(mfcc_features.flatten())\n",
    "    y.append(label)\n",
    "\n",
    " # Convert features and labels to DataFrame and save to CSV\n",
    "df = pd.DataFrame(X)\n",
    "df = df.fillna(0)\n",
    "df['label'] = y\n",
    "df.to_csv('frey_audio_dataset.csv', index=False)"
   ]
  },
  {
   "cell_type": "code",
   "execution_count": 16,
   "id": "61f102ee-1e4e-4886-989e-4cf38b6f1e59",
   "metadata": {},
   "outputs": [],
   "source": [
    "# Convert lists to numpy arrays\n",
    "X = np.array(X)\n",
    "y = np.array(y)\n",
    "\n",
    "# Flatten the features and labels\n",
    "X_flat = X.reshape(X.shape[0], -1)\n",
    "y_flat = y\n",
    "\n",
    "# Split the data into training and testing sets\n",
    "X_train, X_test, y_train, y_test = train_test_split(X_flat, y_flat, test_size=0.2, random_state=42)"
   ]
  },
  {
   "cell_type": "code",
   "execution_count": 17,
   "id": "5dec7aee-f5f2-48da-ba63-f5f2f4c5fe2e",
   "metadata": {},
   "outputs": [],
   "source": [
    "# Train and evaluate models\n",
    "models = [\n",
    "    ('Random Forest', RandomForestClassifier(n_estimators=25, max_features=5)),\n",
    "    ('Logistic Regression', LogisticRegression()),\n",
    "    ('Decision Tree', DecisionTreeClassifier()),\n",
    "    ('SVM', SVC()),\n",
    "]\n",
    " "
   ]
  },
  {
   "cell_type": "code",
   "execution_count": 18,
   "id": "df5dfa0b-bf99-4969-a8e6-ffcd1b2b7fe8",
   "metadata": {},
   "outputs": [
    {
     "name": "stdout",
     "output_type": "stream",
     "text": [
      "Model, Accuracy, Precision, Recall\n",
      "Random Forest: 0.782608695652174, 0.6124763705103969, 0.782608695652174\n"
     ]
    },
    {
     "name": "stderr",
     "output_type": "stream",
     "text": [
      "/home/kotaro/.local/lib/python3.10/site-packages/sklearn/metrics/_classification.py:1509: UndefinedMetricWarning: Precision is ill-defined and being set to 0.0 in labels with no predicted samples. Use `zero_division` parameter to control this behavior.\n",
      "  _warn_prf(average, modifier, f\"{metric.capitalize()} is\", len(result))\n",
      "/home/kotaro/.local/lib/python3.10/site-packages/sklearn/linear_model/_logistic.py:469: ConvergenceWarning: lbfgs failed to converge (status=1):\n",
      "STOP: TOTAL NO. of ITERATIONS REACHED LIMIT.\n",
      "\n",
      "Increase the number of iterations (max_iter) or scale the data as shown in:\n",
      "    https://scikit-learn.org/stable/modules/preprocessing.html\n",
      "Please also refer to the documentation for alternative solver options:\n",
      "    https://scikit-learn.org/stable/modules/linear_model.html#logistic-regression\n",
      "  n_iter_i = _check_optimize_result(\n"
     ]
    },
    {
     "name": "stdout",
     "output_type": "stream",
     "text": [
      "Logistic Regression: 0.6630434782608695, 0.6346739130434783, 0.6630434782608695\n",
      "Decision Tree: 0.6521739130434783, 0.7154612597547382, 0.6521739130434783\n",
      "SVM: 0.782608695652174, 0.6124763705103969, 0.782608695652174\n"
     ]
    },
    {
     "name": "stderr",
     "output_type": "stream",
     "text": [
      "/home/kotaro/.local/lib/python3.10/site-packages/sklearn/metrics/_classification.py:1509: UndefinedMetricWarning: Precision is ill-defined and being set to 0.0 in labels with no predicted samples. Use `zero_division` parameter to control this behavior.\n",
      "  _warn_prf(average, modifier, f\"{metric.capitalize()} is\", len(result))\n"
     ]
    }
   ],
   "source": [
    "print(\"Model, Accuracy, Precision, Recall\")\n",
    "for model_name, model in models:\n",
    "    model.fit(X_train, y_train)\n",
    "    y_pred = model.predict(X_test)\n",
    "    accuracy = accuracy_score(y_test, y_pred)\n",
    "    precision = precision_score(y_test, y_pred, average='weighted')\n",
    "    recall = recall_score(y_test, y_pred, average='weighted')\n",
    "    print(f\"{model_name}: {accuracy}, {precision}, {recall}\")"
   ]
  }
 ],
 "metadata": {
  "kernelspec": {
   "display_name": "Python 3 (ipykernel)",
   "language": "python",
   "name": "python3"
  },
  "language_info": {
   "codemirror_mode": {
    "name": "ipython",
    "version": 3
   },
   "file_extension": ".py",
   "mimetype": "text/x-python",
   "name": "python",
   "nbconvert_exporter": "python",
   "pygments_lexer": "ipython3",
   "version": "3.10.14"
  }
 },
 "nbformat": 4,
 "nbformat_minor": 5
}
