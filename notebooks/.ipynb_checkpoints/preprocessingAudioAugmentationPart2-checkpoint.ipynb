{
 "cells": [
  {
   "cell_type": "code",
   "execution_count": 34,
   "id": "6f5875c5-357c-43b2-ac29-80689c9ed3e9",
   "metadata": {},
   "outputs": [],
   "source": [
    "### Import necessary library\n",
    "\n",
    "import numpy as np\n",
    "import librosa\n",
    "import os\n",
    "import random\n",
    "import soundfile as sf\n",
    "from scipy.io import wavfile\n",
    "import shutil\n",
    "import hashlib\n"
   ]
  },
  {
   "cell_type": "code",
   "execution_count": 38,
   "id": "739bde25-acb6-4e33-a588-07514d5080e2",
   "metadata": {},
   "outputs": [
    {
     "name": "stdout",
     "output_type": "stream",
     "text": [
      "Noise injection audio saved: ../data/raw/Augmented/burping/noise_injection_AEA8AE04-D00E-48A7-8A0B-6D87E2175121-1430563241-1.0-f-72-bu_augmented.wav\n",
      "Volume adjustment audio saved: ../data/raw/Augmented/burping/volume_adjustment_AEA8AE04-D00E-48A7-8A0B-6D87E2175121-1430563241-1.0-f-72-bu_augmented.wav\n",
      "Speed perturbation audio saved: ../data/raw/Augmented/burping/speed_perturbation_AEA8AE04-D00E-48A7-8A0B-6D87E2175121-1430563241-1.0-f-72-bu_augmented.wav\n"
     ]
    },
    {
     "ename": "TypeError",
     "evalue": "pitch_shift() takes 1 positional argument but 3 were given",
     "output_type": "error",
     "traceback": [
      "\u001b[0;31m---------------------------------------------------------------------------\u001b[0m",
      "\u001b[0;31mTypeError\u001b[0m                                 Traceback (most recent call last)",
      "Cell \u001b[0;32mIn[38], line 80\u001b[0m\n\u001b[1;32m     78\u001b[0m \u001b[38;5;66;03m# Pitch variation\u001b[39;00m\n\u001b[1;32m     79\u001b[0m pitch_semitones \u001b[38;5;241m=\u001b[39m np\u001b[38;5;241m.\u001b[39mrandom\u001b[38;5;241m.\u001b[39muniform(\u001b[38;5;241m*\u001b[39mpitch_semitones_range)\n\u001b[0;32m---> 80\u001b[0m augmented_audio \u001b[38;5;241m=\u001b[39m librosa\u001b[38;5;241m.\u001b[39meffects\u001b[38;5;241m.\u001b[39mpitch_shift(original_audio, sr, pitch_semitones)\n\u001b[1;32m     81\u001b[0m audio_hash \u001b[38;5;241m=\u001b[39m generate_audio_hash(augmented_audio)\n\u001b[1;32m     82\u001b[0m \u001b[38;5;28;01mif\u001b[39;00m audio_hash \u001b[38;5;129;01mnot\u001b[39;00m \u001b[38;5;129;01min\u001b[39;00m generated_audio_hashes:\n",
      "\u001b[0;31mTypeError\u001b[0m: pitch_shift() takes 1 positional argument but 3 were given"
     ]
    }
   ],
   "source": [
    "input_folder = \"../data/raw/\"\n",
    "output_folder = \"../data/raw/Augmented/\"\n",
    "\n",
    "desired_num_audios = 10\n",
    "random_seed = 42\n",
    "np.random.seed(random_seed)\n",
    "\n",
    "noise_level = 0.05  # SD for random normal distribution noise\n",
    "volume_factor_range = [0.8, 1.2]  # Range of volume\n",
    "speed_factor_range = [0.8, 1.2]  # Range of speed\n",
    "pitch_semitones_range = [-2, 2]  # Range of pitch variation\n",
    "\n",
    "# Define a set to store unique hashes\n",
    "generated_audio_hashes = set()\n",
    "\n",
    "# Function to generate a unique hash for an audio file\n",
    "def generate_audio_hash(audio_data):\n",
    "    return hashlib.sha1(audio_data).hexdigest()\n",
    "\n",
    "# Iterate through each class folder except \"hungry\" since it is a dominant class \n",
    "for class_folder in os.listdir(input_folder):\n",
    "    if class_folder == \"hungry\":\n",
    "        continue  # Skip it\n",
    "\n",
    "    class_input_folder = os.path.join(input_folder, class_folder)\n",
    "    class_output_folder = os.path.join(output_folder, class_folder)\n",
    "\n",
    "    # Create class output folder if it doesn't exist\n",
    "    if not os.path.exists(class_output_folder):\n",
    "        os.makedirs(class_output_folder)\n",
    "\n",
    "    # Get list of audio files in class input folder\n",
    "    audio_files = os.listdir(class_input_folder)\n",
    "\n",
    "    # Augment the audio files\n",
    "    for audio_file in audio_files:\n",
    "        input_audio_path = os.path.join(class_input_folder, audio_file)\n",
    "\n",
    "        # Load the original audio\n",
    "        original_audio, sr = librosa.load(input_audio_path, sr=None)\n",
    "\n",
    "        # Generate a hash for the original audio\n",
    "        original_audio_hash = generate_audio_hash(original_audio)\n",
    "\n",
    "        # Noise Injection\n",
    "        noise = np.random.normal(0, noise_level, len(original_audio))\n",
    "        augmented_audio = original_audio + noise\n",
    "        audio_hash = generate_audio_hash(augmented_audio)\n",
    "        if audio_hash not in generated_audio_hashes:\n",
    "            output_audio_name = f\"noise_injection_{os.path.splitext(audio_file)[0]}_augmented.wav\"\n",
    "            output_audio_path = os.path.join(class_output_folder, output_audio_name)\n",
    "            wavfile.write(output_audio_path, sr, augmented_audio.astype(np.float32))\n",
    "            print(f\"Noise injection audio saved: {output_audio_path}\")\n",
    "            generated_audio_hashes.add(audio_hash)\n",
    "\n",
    "        # Volume adjustment\n",
    "        volume_factor = np.random.uniform(*volume_factor_range)\n",
    "        augmented_audio = original_audio * volume_factor\n",
    "        audio_hash = generate_audio_hash(augmented_audio)\n",
    "        if audio_hash not in generated_audio_hashes:\n",
    "            output_audio_name = f\"volume_adjustment_{os.path.splitext(audio_file)[0]}_augmented.wav\"\n",
    "            output_audio_path = os.path.join(class_output_folder, output_audio_name)\n",
    "            wavfile.write(output_audio_path, sr, augmented_audio.astype(np.float32))\n",
    "            print(f\"Volume adjustment audio saved: {output_audio_path}\")\n",
    "            generated_audio_hashes.add(audio_hash)\n",
    "\n",
    "        # Speed perturbation\n",
    "        speed_factor = np.random.uniform(*speed_factor_range)\n",
    "        augmented_audio = librosa.effects.time_stretch(original_audio, rate=1.0 / speed_factor)\n",
    "        audio_hash = generate_audio_hash(augmented_audio)\n",
    "        if audio_hash not in generated_audio_hashes:\n",
    "            output_audio_name = f\"speed_perturbation_{os.path.splitext(audio_file)[0]}_augmented.wav\"\n",
    "            output_audio_path = os.path.join(class_output_folder, output_audio_name)\n",
    "            wavfile.write(output_audio_path, sr, augmented_audio.astype(np.float32))\n",
    "            print(f\"Speed perturbation audio saved: {output_audio_path}\")\n",
    "            generated_audio_hashes.add(audio_hash)\n",
    "\n",
    "        # Pitch variation\n",
    "        pitch_semitones = np.random.uniform(*pitch_semitones_range)\n",
    "        augmented_audio = librosa.effects.pitch_shift(y=original_audio, sr, pitch_semitones)\n",
    "        audio_hash = generate_audio_hash(augmented_audio)\n",
    "        if audio_hash not in generated_audio_hashes:\n",
    "            output_audio_name = f\"pitch_variation_{os.path.splitext(audio_file)[0]}_augmented.wav\"\n",
    "            output_audio_path = os.path.join(class_output_folder, output_audio_name)\n",
    "            wavfile.write(output_audio_path, sr, augmented_audio.astype(np.float32))\n",
    "            print(f\"Pitch variation audio saved: {output_audio_path}\")\n",
    "            generated_audio_hashes.add(audio_hash)\n"
   ]
  },
  {
   "cell_type": "code",
   "execution_count": null,
   "id": "3a3e6992-c2a7-4706-891c-f2c6b81c0bab",
   "metadata": {},
   "outputs": [],
   "source": [
    "    "
   ]
  }
 ],
 "metadata": {
  "kernelspec": {
   "display_name": "Python 3 (ipykernel)",
   "language": "python",
   "name": "python3"
  },
  "language_info": {
   "codemirror_mode": {
    "name": "ipython",
    "version": 3
   },
   "file_extension": ".py",
   "mimetype": "text/x-python",
   "name": "python",
   "nbconvert_exporter": "python",
   "pygments_lexer": "ipython3",
   "version": "3.11.7"
  }
 },
 "nbformat": 4,
 "nbformat_minor": 5
}
