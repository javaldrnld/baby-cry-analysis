import pandas as pd
import numpy as np
import tensorflow as tf
import IPython.display as ipd
import matplotlib.pyplot as plt
import librosa
import librosa.display
import os
from tqdm import tqdm

%matplotlib inline





audio_file_path = '../data/raw/belly_pain/549a46d8-9c84-430e-ade8-97eae2bef787-1430130772174-1.7-m-48-bp.wav'
librosa_audio_data, librosa_sr = librosa.load(audio_file_path)








mfccs = librosa.feature.mfcc(y=librosa_audio_data, sr=librosa_sr, n_mfcc=40)
print(mfccs.shape)


mfccs


#### Extracting MFCC's for every audio file

audio_dataset_path = '/home/kotaro/Documents/Baby Cry Analysis/data/raw'
metadata = pd.read_csv('/home/kotaro/Documents/Baby Cry Analysis/data/metadata/d'
