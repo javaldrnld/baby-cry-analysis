{
 "cells": [
  {
   "cell_type": "code",
   "execution_count": 1,
   "id": "4cd5689b-c322-44e3-899f-e019c83357e5",
   "metadata": {},
   "outputs": [],
   "source": [
    "import librosa\n",
    "import matplotlib.pyplot as plt\n",
    "\n",
    "\n",
    "def _plot_signal_and_augmented_signal(signal, augmented_signal, sr):\n",
    "    fig, ax = plt.subplots(nrows=2)\n",
    "    librosa.display.waveshow(signal, sr=sr, ax=ax[0])\n",
    "    ax[0].set(title=\"Original Signal\")\n",
    "    librosa.display.waveshow(augmented_signal, sr=sr, ax=ax[1])\n",
    "    ax[1].set(title=\"Augmented Signal\")\n",
    "    plt.show()\n"
   ]
  },
  {
   "cell_type": "code",
   "execution_count": 1,
   "id": "043e012c-a128-476b-b51a-0f40f3b17196",
   "metadata": {},
   "outputs": [
    {
     "name": "stderr",
     "output_type": "stream",
     "text": [
      "2024-05-05 15:43:01.290278: I tensorflow/core/platform/cpu_feature_guard.cc:193] This TensorFlow binary is optimized with oneAPI Deep Neural Network Library (oneDNN) to use the following CPU instructions in performance-critical operations:  AVX2 AVX_VNNI FMA\n",
      "To enable them in other operations, rebuild TensorFlow with the appropriate compiler flags.\n",
      "2024-05-05 15:43:01.360161: I tensorflow/core/util/util.cc:169] oneDNN custom operations are on. You may see slightly different numerical results due to floating-point round-off errors from different computation orders. To turn them off, set the environment variable `TF_ENABLE_ONEDNN_OPTS=0`.\n",
      "2024-05-05 15:43:01.363434: W tensorflow/stream_executor/platform/default/dso_loader.cc:64] Could not load dynamic library 'libcudart.so.11.0'; dlerror: libcudart.so.11.0: cannot open shared object file: No such file or directory\n",
      "2024-05-05 15:43:01.363444: I tensorflow/stream_executor/cuda/cudart_stub.cc:29] Ignore above cudart dlerror if you do not have a GPU set up on your machine.\n",
      "2024-05-05 15:43:01.379053: E tensorflow/stream_executor/cuda/cuda_blas.cc:2981] Unable to register cuBLAS factory: Attempting to register factory for plugin cuBLAS when one has already been registered\n",
      "2024-05-05 15:43:01.725982: W tensorflow/stream_executor/platform/default/dso_loader.cc:64] Could not load dynamic library 'libnvinfer.so.7'; dlerror: libnvinfer.so.7: cannot open shared object file: No such file or directory\n",
      "2024-05-05 15:43:01.726024: W tensorflow/stream_executor/platform/default/dso_loader.cc:64] Could not load dynamic library 'libnvinfer_plugin.so.7'; dlerror: libnvinfer_plugin.so.7: cannot open shared object file: No such file or directory\n",
      "2024-05-05 15:43:01.726027: W tensorflow/compiler/tf2tensorrt/utils/py_utils.cc:38] TF-TRT Warning: Cannot dlopen some TensorRT libraries. If you would like to use Nvidia GPU with TensorRT, please make sure the missing libraries mentioned above are installed properly.\n",
      "/home/kotaro/.local/lib/python3.10/site-packages/pydub/utils.py:170: RuntimeWarning: Couldn't find ffmpeg or avconv - defaulting to ffmpeg, but may not work\n",
      "  warn(\"Couldn't find ffmpeg or avconv - defaulting to ffmpeg, but may not work\", RuntimeWarning)\n"
     ]
    }
   ],
   "source": [
    "import os\n",
    "import pandas as pd\n",
    "import librosa\n",
    "import numpy as np\n",
    "from sklearn.model_selection import train_test_split\n",
    "from sklearn.ensemble import RandomForestClassifier\n",
    "from sklearn.linear_model import LogisticRegression\n",
    "from sklearn.tree import DecisionTreeClassifier\n",
    "from sklearn.svm import SVC\n",
    "import tensorflow as tf\n",
    "from sklearn.preprocessing import LabelEncoder\n",
    "from sklearn.metrics import accuracy_score, precision_score, recall_score\n",
    "from tensorflow.keras.models import Sequential\n",
    "from tensorflow.keras.layers import LSTM, Dense, Dropout\n",
    "import pickle\n",
    "from collections import Counter\n",
    "from pydub import AudioSegment\n",
    "import wave\n",
    "import math\n",
    "import uuid"
   ]
  },
  {
   "cell_type": "code",
   "execution_count": 2,
   "id": "cf3ffef8-98fe-466b-98d0-9b1f4f4a9c14",
   "metadata": {},
   "outputs": [],
   "source": [
    "# Define raw audio dictionary\n",
    "raw_audio = {}\n",
    "\n",
    "# Loop through directioris and label audio files\n",
    "directories = ['belly_pain', 'burping', 'discomfort', 'hungry', 'tired']\n",
    "for directory in directories:\n",
    "    path = '../data/raw2/' + directory\n",
    "    for filename in os.listdir(path):\n",
    "        if filename.endswith(\".wav\"):\n",
    "            raw_audio[os.path.join(path, filename)] = directory"
   ]
  },
  {
   "cell_type": "code",
   "execution_count": 131,
   "id": "b2a7ab97-c8f7-4267-91cb-9fc7d6aee18e",
   "metadata": {},
   "outputs": [],
   "source": [
    "\n",
    "import numpy as np\n",
    "\n",
    "# Define a fixed length for MFCC feature vectors\n",
    "max_length = 100\n",
    "\n",
    "# Extract MFCC Features and Chop audio\n",
    "# Preemphasis filter for high frequency\n",
    "def preemphasis_filter(signal, alpha=0.97):\n",
    "    return np.append(signal[0], signal[1:] - alpha * signal[:-1])\n",
    "\n",
    "# Frame the signal into 25 ms frame and 10 ms frame shift\n",
    "def frame_signal(signal, frame_length, frame_shift):\n",
    "    num_samples = len(signal)\n",
    "    num_frames = 1 + int(np.ceil((num_samples - frame_length) / frame_shift))\n",
    "    frames = np.zeros((num_frames, frame_length))\n",
    "    for i in range(num_frames):\n",
    "        start = i * frame_shift\n",
    "        end = min(start + frame_length, num_samples)  # Ensure end does not exceed num_samples\n",
    "        frames[i, :end-start] = signal[start:end] * np.hamming(end-start)\n",
    "    return frames\n",
    "\n",
    "# Compute for power spectrum\n",
    "def power_spectrum(frames):\n",
    "    return np.abs(np.fft.rfft(frames, axis=1))**2 / frames.shape[1]\n",
    "\n",
    "# Apply Mel Filterbank\n",
    "def mel_filterbank(spectrum, num_filters=40, sampling_rate=22050, n_fft=512):\n",
    "    mel_filterbank = librosa.filters.mel(sr=sampling_rate, n_fft=n_fft, n_mels=num_filters)\n",
    "    return np.dot(mel_filterbank, spectrum)\n",
    "\n",
    "# Compute MFCCS\n",
    "def mfcc(signal, sampling_rate=22050, frame_length=512, frame_shift=256, num_mfcc=13):\n",
    "    emphasized_signal = preemphasis_filter(signal)\n",
    "    framed_signal = frame_signal(emphasized_signal, frame_length, frame_shift)\n",
    "    spectrum = power_spectrum(framed_signal)\n",
    "    mel_spectrum = mel_filterbank(spectrum.T, num_filters=num_mfcc, sampling_rate=sampling_rate)\n",
    "    mfccs = librosa.feature.mfcc(S=librosa.power_to_db(mel_spectrum), n_mfcc=num_mfcc)\n",
    "    \n",
    "    if mfccs.shape[1] < max_length:\n",
    "        mfccs_padded = np.pad(mfccs, ((0, 0), (0, max_length - mfccs.shape[1])), mode='constant')\n",
    "    elif mfccs.shape[1] > max_length:\n",
    "        mfccs_padded = mfccs[:, :max_length]\n",
    "    else:\n",
    "        mfccs_padded = mfccs\n",
    "    \n",
    "    return mfccs_padded\n"
   ]
  },
  {
   "cell_type": "code",
   "execution_count": 132,
   "id": "11ddc147-8fc4-4eaf-b202-6bbab5e3cb52",
   "metadata": {},
   "outputs": [],
   "source": [
    "'''\n",
    "# Extract MFCC Features and create DataFrame\n",
    "X = []\n",
    "y = []\n",
    "\n",
    "for audio_file, label in raw_audio.items():\n",
    "    signal, sr = librosa.load(audio_file, sr=None)\n",
    "    mfcc_features = mfcc(signal, sampling_rate=sr)\n",
    "    X.append(mfcc_features.flatten())\n",
    "    y.append(label)\n",
    "\n",
    "df = pd.DataFrame(X)\n",
    "df = df.fillna(0)\n",
    "df['label'] = y\n",
    "\n",
    "df.to_csv('audio_dataset.csv', index=False)\n",
    "'''"
   ]
  },
  {
   "cell_type": "code",
   "execution_count": 3,
   "id": "fc718112-539d-4f60-9616-07727f30d39a",
   "metadata": {},
   "outputs": [],
   "source": [
    "# Define function to extract MFCC features and chop audio\n",
    "def extract_mfcc(audio_file, max_length=100):\n",
    "    audiofile, sr = librosa.load(audio_file)\n",
    "    fingerprint = librosa.feature.mfcc(y=audiofile, sr=sr, n_mfcc=20)\n",
    "    if fingerprint.shape[1] < max_length:\n",
    "        pad_width = max_length - fingerprint.shape[1]\n",
    "        fingerprint_padded = np.pad(fingerprint, pad_width=((0, 0), (0, pad_width)), mode='constant')\n",
    "        return fingerprint_padded.T\n",
    "    elif fingerprint.shape[1] > max_length:\n",
    "        return fingerprint[:, :max_length].T\n",
    "    else:\n",
    "        return fingerprint.T\n",
    "\n",
    "\n",
    "# Chop audio and extract MFCC features for each track\n",
    "X = []\n",
    "y = []\n",
    "max_length = 100\n",
    "\n",
    "for i, (audio_file, label) in enumerate(raw_audio.items()):\n",
    "    mfcc_features = extract_mfcc(audio_file, max_length=max_length)\n",
    "    X.append(mfcc_features.flatten())\n",
    "    y.append(label)\n",
    "\n",
    " # Convert features and labels to DataFrame and save to CSV\n",
    "df = pd.DataFrame(X)\n",
    "df = df.fillna(0)\n",
    "df['label'] = y\n",
    "df.to_csv('audio_dataset.csv', index=False)"
   ]
  },
  {
   "cell_type": "code",
   "execution_count": 4,
   "id": "059406eb-d697-472c-9697-8f8c9fccdc29",
   "metadata": {},
   "outputs": [],
   "source": [
    "X = np.array(X)\n",
    "y = np.array(y)\n",
    "\n",
    "X_flat = X.reshape(X.shape[0], -1)\n",
    "y_flat = y\n",
    "\n",
    "# Split the dataset into training, testing, and validation sets\n",
    "X_train, X_test, y_train, y_test = train_test_split(X, y, test_size=0.2, random_state=42)\n",
    "X_train, X_val, y_train, y_val = train_test_split(X_train, y_train, test_size=0.25, random_state=42)  # 60% train, 20% val, 20% test"
   ]
  },
  {
   "cell_type": "code",
   "execution_count": 5,
   "id": "c96c88dd-a2c4-4c44-81c1-75611e095d31",
   "metadata": {},
   "outputs": [],
   "source": [
    "models = [(\"Random Forest\", RandomForestClassifier()), \n",
    "          (\"Logistic Regression\", LogisticRegression()), \n",
    "          (\"SVM\", SVC()), \n",
    "          (\"Decision Tree\", DecisionTreeClassifier())]"
   ]
  },
  {
   "cell_type": "code",
   "execution_count": 6,
   "id": "b62b9914-7be5-4a21-b012-7dbc43558a18",
   "metadata": {},
   "outputs": [
    {
     "name": "stdout",
     "output_type": "stream",
     "text": [
      "Model, Accuracy, Precision, Recall\n"
     ]
    },
    {
     "name": "stderr",
     "output_type": "stream",
     "text": [
      "/home/kotaro/.local/lib/python3.10/site-packages/sklearn/metrics/_classification.py:1509: UndefinedMetricWarning: Precision is ill-defined and being set to 0.0 in labels with no predicted samples. Use `zero_division` parameter to control this behavior.\n",
      "  _warn_prf(average, modifier, f\"{metric.capitalize()} is\", len(result))\n"
     ]
    },
    {
     "name": "stdout",
     "output_type": "stream",
     "text": [
      "Random Forest: 0.782608695652174, 0.6124763705103969, 0.782608695652174\n"
     ]
    },
    {
     "name": "stderr",
     "output_type": "stream",
     "text": [
      "/home/kotaro/.local/lib/python3.10/site-packages/sklearn/linear_model/_logistic.py:469: ConvergenceWarning: lbfgs failed to converge (status=1):\n",
      "STOP: TOTAL NO. of ITERATIONS REACHED LIMIT.\n",
      "\n",
      "Increase the number of iterations (max_iter) or scale the data as shown in:\n",
      "    https://scikit-learn.org/stable/modules/preprocessing.html\n",
      "Please also refer to the documentation for alternative solver options:\n",
      "    https://scikit-learn.org/stable/modules/linear_model.html#logistic-regression\n",
      "  n_iter_i = _check_optimize_result(\n",
      "/home/kotaro/.local/lib/python3.10/site-packages/sklearn/metrics/_classification.py:1509: UndefinedMetricWarning: Precision is ill-defined and being set to 0.0 in labels with no predicted samples. Use `zero_division` parameter to control this behavior.\n",
      "  _warn_prf(average, modifier, f\"{metric.capitalize()} is\", len(result))\n"
     ]
    },
    {
     "name": "stdout",
     "output_type": "stream",
     "text": [
      "Logistic Regression: 0.7065217391304348, 0.6055900621118012, 0.7065217391304348\n",
      "SVM: 0.782608695652174, 0.6124763705103969, 0.782608695652174\n",
      "Decision Tree: 0.6630434782608695, 0.6281464530892449, 0.6630434782608695\n"
     ]
    }
   ],
   "source": [
    "\n",
    "\n",
    "print(\"Model, Accuracy, Precision, Recall\")\n",
    "for model_name, model in models:\n",
    "    model.fit(X_train, y_train)\n",
    "    y_pred = model.predict(X_test)\n",
    "    accuracy = accuracy_score(y_test, y_pred)\n",
    "    precision = precision_score(y_test, y_pred, average='weighted')\n",
    "    recall = recall_score(y_test, y_pred, average='weighted')\n",
    "    print(f\"{model_name}: {accuracy}, {precision}, {recall}\")\n",
    "\n"
   ]
  },
  {
   "cell_type": "code",
   "execution_count": 7,
   "id": "7af61103-4d70-40b1-a92e-728c942926aa",
   "metadata": {},
   "outputs": [
    {
     "data": {
      "text/plain": [
       "(273, 2000)"
      ]
     },
     "execution_count": 7,
     "metadata": {},
     "output_type": "execute_result"
    }
   ],
   "source": [
    "X_train.shape"
   ]
  },
  {
   "cell_type": "code",
   "execution_count": 8,
   "id": "04178e3b-3ccf-4fb3-bf5c-d6110df2eb6a",
   "metadata": {},
   "outputs": [
    {
     "name": "stderr",
     "output_type": "stream",
     "text": [
      "2024-05-05 15:43:50.601527: I tensorflow/stream_executor/cuda/cuda_gpu_executor.cc:980] successful NUMA node read from SysFS had negative value (-1), but there must be at least one NUMA node, so returning NUMA node zero\n",
      "2024-05-05 15:43:50.601683: W tensorflow/stream_executor/platform/default/dso_loader.cc:64] Could not load dynamic library 'libcudart.so.11.0'; dlerror: libcudart.so.11.0: cannot open shared object file: No such file or directory\n",
      "2024-05-05 15:43:50.601712: W tensorflow/stream_executor/platform/default/dso_loader.cc:64] Could not load dynamic library 'libcublas.so.11'; dlerror: libcublas.so.11: cannot open shared object file: No such file or directory\n",
      "2024-05-05 15:43:50.601733: W tensorflow/stream_executor/platform/default/dso_loader.cc:64] Could not load dynamic library 'libcublasLt.so.11'; dlerror: libcublasLt.so.11: cannot open shared object file: No such file or directory\n",
      "2024-05-05 15:43:50.601753: W tensorflow/stream_executor/platform/default/dso_loader.cc:64] Could not load dynamic library 'libcufft.so.10'; dlerror: libcufft.so.10: cannot open shared object file: No such file or directory\n",
      "2024-05-05 15:43:50.601775: W tensorflow/stream_executor/platform/default/dso_loader.cc:64] Could not load dynamic library 'libcurand.so.10'; dlerror: libcurand.so.10: cannot open shared object file: No such file or directory\n",
      "2024-05-05 15:43:50.601796: W tensorflow/stream_executor/platform/default/dso_loader.cc:64] Could not load dynamic library 'libcusolver.so.11'; dlerror: libcusolver.so.11: cannot open shared object file: No such file or directory\n",
      "2024-05-05 15:43:50.601815: W tensorflow/stream_executor/platform/default/dso_loader.cc:64] Could not load dynamic library 'libcusparse.so.11'; dlerror: libcusparse.so.11: cannot open shared object file: No such file or directory\n",
      "2024-05-05 15:43:50.601834: W tensorflow/stream_executor/platform/default/dso_loader.cc:64] Could not load dynamic library 'libcudnn.so.8'; dlerror: libcudnn.so.8: cannot open shared object file: No such file or directory\n",
      "2024-05-05 15:43:50.601838: W tensorflow/core/common_runtime/gpu/gpu_device.cc:1934] Cannot dlopen some GPU libraries. Please make sure the missing libraries mentioned above are installed properly if you would like to use GPU. Follow the guide at https://www.tensorflow.org/install/gpu for how to download and setup the required libraries for your platform.\n",
      "Skipping registering GPU devices...\n",
      "2024-05-05 15:43:50.602349: I tensorflow/core/platform/cpu_feature_guard.cc:193] This TensorFlow binary is optimized with oneAPI Deep Neural Network Library (oneDNN) to use the following CPU instructions in performance-critical operations:  AVX2 AVX_VNNI FMA\n",
      "To enable them in other operations, rebuild TensorFlow with the appropriate compiler flags.\n"
     ]
    },
    {
     "name": "stdout",
     "output_type": "stream",
     "text": [
      "Epoch 1/10\n",
      "7/7 [==============================] - 1s 77ms/step - loss: 1.5484 - accuracy: 0.3761 - val_loss: 0.7251 - val_accuracy: 0.9455\n",
      "Epoch 2/10\n",
      "7/7 [==============================] - 0s 43ms/step - loss: 0.8270 - accuracy: 0.8073 - val_loss: 0.3287 - val_accuracy: 0.9455\n",
      "Epoch 3/10\n",
      "7/7 [==============================] - 0s 44ms/step - loss: 0.7384 - accuracy: 0.8394 - val_loss: 0.2859 - val_accuracy: 0.9455\n",
      "Epoch 4/10\n",
      "7/7 [==============================] - 0s 41ms/step - loss: 0.6440 - accuracy: 0.8394 - val_loss: 0.2977 - val_accuracy: 0.9455\n",
      "Epoch 5/10\n",
      "7/7 [==============================] - 0s 44ms/step - loss: 0.6633 - accuracy: 0.8394 - val_loss: 0.3194 - val_accuracy: 0.9455\n",
      "Epoch 6/10\n",
      "7/7 [==============================] - 0s 44ms/step - loss: 0.6418 - accuracy: 0.8394 - val_loss: 0.3397 - val_accuracy: 0.9455\n",
      "Epoch 7/10\n",
      "7/7 [==============================] - 0s 45ms/step - loss: 0.6307 - accuracy: 0.8394 - val_loss: 0.3367 - val_accuracy: 0.9455\n",
      "Epoch 8/10\n",
      "7/7 [==============================] - 0s 40ms/step - loss: 0.6180 - accuracy: 0.8394 - val_loss: 0.3262 - val_accuracy: 0.9455\n",
      "Epoch 9/10\n",
      "7/7 [==============================] - 0s 43ms/step - loss: 0.5831 - accuracy: 0.8394 - val_loss: 0.3231 - val_accuracy: 0.9455\n",
      "Epoch 10/10\n",
      "7/7 [==============================] - 0s 42ms/step - loss: 0.6047 - accuracy: 0.8394 - val_loss: 0.3226 - val_accuracy: 0.9455\n",
      "3/3 [==============================] - 0s 12ms/step - loss: 0.8614 - accuracy: 0.7826\n",
      "Accuracy: 0.782608687877655\n",
      "3/3 [==============================] - 0s 14ms/step\n",
      "Precision: 0.6124763705103969\n",
      "Recall: 0.782608695652174\n"
     ]
    },
    {
     "name": "stderr",
     "output_type": "stream",
     "text": [
      "/home/kotaro/.local/lib/python3.10/site-packages/sklearn/metrics/_classification.py:1509: UndefinedMetricWarning: Precision is ill-defined and being set to 0.0 in labels with no predicted samples. Use `zero_division` parameter to control this behavior.\n",
      "  _warn_prf(average, modifier, f\"{metric.capitalize()} is\", len(result))\n"
     ]
    }
   ],
   "source": [
    "# Reshape data for LSTM input\n",
    "n_samples, n_features = X_train.shape[0], X_train.shape[1] // 100\n",
    "n_timesteps = 100\n",
    "X_train_lstm = X_train.reshape((n_samples, 100, 20))\n",
    "n_samples_test = X_test.shape[0]\n",
    "X_test_lstm = X_test.reshape((n_samples_test, n_timesteps, n_features))\n",
    "\n",
    "# Convert labels to numeric values\n",
    "label_encoder = LabelEncoder()\n",
    "y_train_encoded = label_encoder.fit_transform(y_train)\n",
    "y_test_encoded = label_encoder.transform(y_test)\n",
    "\n",
    "# Define LSTM model\n",
    "lstm_model = Sequential([\n",
    "    LSTM(units=128, input_shape=(n_timesteps, n_features)),\n",
    "    Dropout(0.2),\n",
    "    Dense(units=64, activation='relu'),\n",
    "    Dropout(0.2),\n",
    "    Dense(units=len(np.unique(y_train_encoded)), activation='softmax')\n",
    "])\n",
    "\n",
    "\n",
    "# Compile LSTM model\n",
    "lstm_model.compile(optimizer='adam', loss='sparse_categorical_crossentropy', metrics=['accuracy'])\n",
    "\n",
    "# Train LSTM model\n",
    "lstm_model.fit(X_train_lstm, y_train_encoded, epochs=10, batch_size=32, validation_split=0.2)\n",
    "\n",
    "# Evaluate LSTM model\n",
    "_, accuracy = lstm_model.evaluate(X_test_lstm, y_test_encoded)\n",
    "print(\"Accuracy:\", accuracy)\n",
    "\n",
    "from sklearn.metrics import precision_score, recall_score\n",
    "\n",
    "# Predict probabilities for the test dataset using the trained LSTM model\n",
    "predicted_probabilities = lstm_model.predict(X_test_lstm)\n",
    "\n",
    "# Convert probabilities to class labels\n",
    "predicted_labels = np.argmax(predicted_probabilities, axis=1)\n",
    "\n",
    "# Calculate precision\n",
    "precision = precision_score(y_test_encoded, predicted_labels, average='weighted')\n",
    "\n",
    "# Calculate recall\n",
    "recall = recall_score(y_test_encoded, predicted_labels, average='weighted')\n",
    "\n",
    "print(\"Precision:\", precision)\n",
    "print(\"Recall:\", recall)\n"
   ]
  },
  {
   "cell_type": "code",
   "execution_count": 9,
   "id": "5af51301-8de2-47fd-8660-b8dfa2551b91",
   "metadata": {},
   "outputs": [
    {
     "name": "stderr",
     "output_type": "stream",
     "text": [
      "WARNING:absl:Found untraced functions such as lstm_cell_layer_call_fn, lstm_cell_layer_call_and_return_conditional_losses while saving (showing 2 of 2). These functions will not be directly callable after loading.\n"
     ]
    },
    {
     "name": "stdout",
     "output_type": "stream",
     "text": [
      "INFO:tensorflow:Assets written to: ram://c1573b7d-3ac6-440e-85df-db632ae03224/assets\n"
     ]
    },
    {
     "name": "stderr",
     "output_type": "stream",
     "text": [
      "INFO:tensorflow:Assets written to: ram://c1573b7d-3ac6-440e-85df-db632ae03224/assets\n"
     ]
    },
    {
     "data": {
      "text/plain": [
       "['lstm_audio_model.joblib']"
      ]
     },
     "execution_count": 9,
     "metadata": {},
     "output_type": "execute_result"
    }
   ],
   "source": [
    "import joblib\n",
    "\n",
    "# Save the model\n",
    "joblib.dump(lstm_model, \"lstm_audio_model.joblib\")\n"
   ]
  },
  {
   "cell_type": "code",
   "execution_count": 10,
   "id": "dcb4d92b-f131-45d9-a1f1-9443a08e93fa",
   "metadata": {},
   "outputs": [],
   "source": [
    "\n",
    "\n",
    "def pickle_model(model, modelname):\n",
    "    directory = 'models'\n",
    "    if not os.path.exists(directory):\n",
    "        os.makedirs(directory)\n",
    "    with open(os.path.join(directory, str(modelname) + '.pkl'), 'wb') as f:\n",
    "        return pickle.dump(model, f)\n",
    "\n",
    "model = SVC()\n",
    "model.fit(X_train, y_train)\n",
    "pickle_model(model, \"mySVC\")\n",
    "\n"
   ]
  },
  {
   "cell_type": "code",
   "execution_count": 11,
   "id": "c553ca04-ac40-4783-8ee3-ac4cc9451b20",
   "metadata": {},
   "outputs": [],
   "source": [
    "def getModel(pickle_path):\n",
    "  with open(pickle_path, 'rb') as f:\n",
    "        return pickle.load(f)\n"
   ]
  },
  {
   "cell_type": "code",
   "execution_count": 12,
   "id": "70b21711-bfa9-4d3e-8c89-67411ac550c1",
   "metadata": {},
   "outputs": [
    {
     "name": "stdout",
     "output_type": "stream",
     "text": [
      "Counter({'hungry': 24})\n"
     ]
    }
   ],
   "source": [
    "predictions = []\n",
    "\n",
    "folder_path = '../data/samples/'\n",
    "\n",
    "for filename in os.listdir(folder_path):\n",
    "    if filename.endswith(\".wav\"):\n",
    "        try:\n",
    "            audiofile, sr = librosa.load(os.path.join(folder_path, filename))\n",
    "            fingerprint = librosa.feature.mfcc(y=audiofile, sr=sr, n_mfcc=20)\n",
    "            fingerprint_flat = fingerprint.reshape(-1)  # Flatten the MFCC features\n",
    "            # Pad or truncate features to match the number of features used for training\n",
    "            if len(fingerprint_flat) < 2000:\n",
    "                fingerprint_flat = np.pad(fingerprint_flat, (0, 2000 - len(fingerprint_flat)))\n",
    "            elif len(fingerprint_flat) > 2000:\n",
    "                fingerprint_flat = fingerprint_flat[:2000]\n",
    "            prediction = model.predict([fingerprint_flat])  # Reshape to match expected input format\n",
    "            predictions.append(prediction[0])\n",
    "        except Exception as e:\n",
    "            print(f\"Error processing file {filename}: {e}\")\n",
    "\n",
    "from collections import Counter\n",
    "data = Counter(predictions)\n",
    "print(data)  # Returns all unique items and their counts\n"
   ]
  },
  {
   "cell_type": "code",
   "execution_count": 13,
   "id": "acaac3f3-5432-423f-909a-9ec412934fdd",
   "metadata": {},
   "outputs": [
    {
     "name": "stderr",
     "output_type": "stream",
     "text": [
      "/home/kotaro/.local/lib/python3.10/site-packages/sklearn/metrics/_classification.py:1509: UndefinedMetricWarning: Precision is ill-defined and being set to 0.0 in labels with no predicted samples. Use `zero_division` parameter to control this behavior.\n",
      "  _warn_prf(average, modifier, f\"{metric.capitalize()} is\", len(result))\n",
      "/home/kotaro/.local/lib/python3.10/site-packages/sklearn/linear_model/_logistic.py:469: ConvergenceWarning: lbfgs failed to converge (status=1):\n",
      "STOP: TOTAL NO. of ITERATIONS REACHED LIMIT.\n",
      "\n",
      "Increase the number of iterations (max_iter) or scale the data as shown in:\n",
      "    https://scikit-learn.org/stable/modules/preprocessing.html\n",
      "Please also refer to the documentation for alternative solver options:\n",
      "    https://scikit-learn.org/stable/modules/linear_model.html#logistic-regression\n",
      "  n_iter_i = _check_optimize_result(\n",
      "/home/kotaro/.local/lib/python3.10/site-packages/sklearn/metrics/_classification.py:1509: UndefinedMetricWarning: Precision is ill-defined and being set to 0.0 in labels with no predicted samples. Use `zero_division` parameter to control this behavior.\n",
      "  _warn_prf(average, modifier, f\"{metric.capitalize()} is\", len(result))\n"
     ]
    },
    {
     "data": {
      "image/png": "[encoded data removed]",
      "text/plain": [
       "<Figure size 1000x600 with 1 Axes>"
      ]
     },
     "metadata": {},
     "output_type": "display_data"
    }
   ],
   "source": [
    "import matplotlib.pyplot as plt\n",
    "\n",
    "# Lists to store metrics for each model\n",
    "model_names = []\n",
    "accuracies = []\n",
    "precisions = []\n",
    "recalls = []\n",
    "\n",
    "# Loop through models and calculate metrics\n",
    "for model_name, model in models:\n",
    "    model.fit(X_train, y_train)\n",
    "    y_pred = model.predict(X_test)\n",
    "    accuracy = accuracy_score(y_test, y_pred)\n",
    "    precision = precision_score(y_test, y_pred, average='weighted')\n",
    "    recall = recall_score(y_test, y_pred, average='weighted')\n",
    "    \n",
    "    # Append metrics to lists\n",
    "    model_names.append(model_name)\n",
    "    accuracies.append(accuracy)\n",
    "    precisions.append(precision)\n",
    "    recalls.append(recall)\n",
    "\n",
    "# Plot metrics\n",
    "plt.figure(figsize=(10, 6))\n",
    "\n",
    "plt.bar(model_names, accuracies, label='Accuracy')\n",
    "plt.bar(model_names, precisions, label='Precision')\n",
    "plt.bar(model_names, recalls, label='Recall')\n",
    "\n",
    "plt.xlabel('Model')\n",
    "plt.ylabel('Score')\n",
    "plt.title('Performance Metrics of Models')\n",
    "plt.legend()\n",
    "\n",
    "plt.show()\n"
   ]
  },
  {
   "cell_type": "code",
   "execution_count": 14,
   "id": "51acc3b7-fc97-4daa-befb-340d6eb1eb1c",
   "metadata": {},
   "outputs": [
    {
     "name": "stderr",
     "output_type": "stream",
     "text": [
      "/home/kotaro/.local/lib/python3.10/site-packages/sklearn/metrics/_classification.py:1509: UndefinedMetricWarning: Precision is ill-defined and being set to 0.0 in labels with no predicted samples. Use `zero_division` parameter to control this behavior.\n",
      "  _warn_prf(average, modifier, f\"{metric.capitalize()} is\", len(result))\n",
      "/home/kotaro/.local/lib/python3.10/site-packages/sklearn/metrics/_classification.py:1509: UndefinedMetricWarning: Precision is ill-defined and being set to 0.0 in labels with no predicted samples. Use `zero_division` parameter to control this behavior.\n",
      "  _warn_prf(average, modifier, f\"{metric.capitalize()} is\", len(result))\n"
     ]
    },
    {
     "name": "stdout",
     "output_type": "stream",
     "text": [
      "Model: Random Forest\n",
      "Accuracy: 0.782608695652174\n",
      "Precision: 0.6124763705103969\n",
      "Recall: 0.782608695652174\n",
      "Model: SVM\n",
      "Accuracy: 0.782608695652174\n",
      "Precision: 0.6124763705103969\n",
      "Recall: 0.782608695652174\n"
     ]
    },
    {
     "name": "stderr",
     "output_type": "stream",
     "text": [
      "/home/kotaro/.local/lib/python3.10/site-packages/sklearn/linear_model/_logistic.py:469: ConvergenceWarning: lbfgs failed to converge (status=1):\n",
      "STOP: TOTAL NO. of ITERATIONS REACHED LIMIT.\n",
      "\n",
      "Increase the number of iterations (max_iter) or scale the data as shown in:\n",
      "    https://scikit-learn.org/stable/modules/preprocessing.html\n",
      "Please also refer to the documentation for alternative solver options:\n",
      "    https://scikit-learn.org/stable/modules/linear_model.html#logistic-regression\n",
      "  n_iter_i = _check_optimize_result(\n"
     ]
    },
    {
     "name": "stdout",
     "output_type": "stream",
     "text": [
      "Model: Logistic Regression\n",
      "Accuracy: 0.6630434782608695\n",
      "Precision: 0.6346739130434783\n",
      "Recall: 0.6630434782608695\n",
      "Model: Decision Tree\n",
      "Accuracy: 0.6956521739130435\n",
      "Precision: 0.7181001890359168\n",
      "Recall: 0.6956521739130435\n"
     ]
    }
   ],
   "source": [
    "from sklearn.model_selection import train_test_split\n",
    "from sklearn.ensemble import RandomForestClassifier\n",
    "from sklearn.svm import SVC\n",
    "from sklearn.linear_model import LogisticRegression\n",
    "from sklearn.tree import DecisionTreeClassifier\n",
    "from sklearn.metrics import accuracy_score, precision_score, recall_score\n",
    "\n",
    "# Assuming you already have your X and y (features and labels)\n",
    "\n",
    "# Step 1: Split the data into training and testing sets\n",
    "X_train, X_test, y_train, y_test = train_test_split(X, y, test_size=0.2, random_state=42)\n",
    "\n",
    "# Step 2: Define models\n",
    "models = [\n",
    "    (\"Random Forest\", RandomForestClassifier()),\n",
    "    (\"SVM\", SVC()),\n",
    "    (\"Logistic Regression\", LogisticRegression()),\n",
    "    (\"Decision Tree\", DecisionTreeClassifier())\n",
    "]\n",
    "\n",
    "# Step 3: Train and evaluate each model\n",
    "for model_name, model in models:\n",
    "    # Train the model\n",
    "    model.fit(X_train, y_train)\n",
    "    \n",
    "    # Evaluate the model\n",
    "    y_pred = model.predict(X_test)\n",
    "    accuracy = accuracy_score(y_test, y_pred)\n",
    "    precision = precision_score(y_test, y_pred, average='weighted')\n",
    "    recall = recall_score(y_test, y_pred, average='weighted')\n",
    "    \n",
    "    # Print the evaluation metrics\n",
    "    print(f\"Model: {model_name}\")\n",
    "    print(f\"Accuracy: {accuracy}\")\n",
    "    print(f\"Precision: {precision}\")\n",
    "    print(f\"Recall: {recall}\")\n"
   ]
  }
 ],
 "metadata": {
  "kernelspec": {
   "display_name": "Python 3 (ipykernel)",
   "language": "python",
   "name": "python3"
  },
  "language_info": {
   "codemirror_mode": {
    "name": "ipython",
    "version": 3
   },
   "file_extension": ".py",
   "mimetype": "text/x-python",
   "name": "python",
   "nbconvert_exporter": "python",
   "pygments_lexer": "ipython3",
   "version": "3.10.14"
  }
 },
 "nbformat": 4,
 "nbformat_minor": 5
}
