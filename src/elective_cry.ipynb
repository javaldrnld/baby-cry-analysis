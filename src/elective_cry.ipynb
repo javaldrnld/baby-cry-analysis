{
 "cells": [
  {
   "cell_type": "markdown",
   "metadata": {},
   "source": [
    "## Library \n"
   ]
  },
  {
   "cell_type": "code",
   "execution_count": 3,
   "metadata": {},
   "outputs": [],
   "source": [
    "\n",
    "import io\n",
    "import time\n",
    "import wave\n",
    "\n",
    "import firebase_admin\n",
    "import numpy as np\n",
    "import pyaudio\n",
    "from firebase_admin import credentials, db\n",
    "from google.cloud import speech\n",
    "from google.oauth2 import service_account"
   ]
  },
  {
   "cell_type": "code",
   "execution_count": 4,
   "metadata": {},
   "outputs": [],
   "source": [
    "# Firebase and Google Cloud Setup\n",
    "cred = credentials.Certificate(\"cry_firebase.json\")\n",
    "firebase_admin.initialize_app(\n",
    "    cred,\n",
    "    {\n",
    "        \"databaseURL\": \"https://baby-9e20f-default-rtdb.asia-southeast1.firebasedatabase.app/\"\n",
    "    },\n",
    ")\n",
    "ref = db.reference()\n",
    "\n",
    "client_file = \"demo_speech.json\"\n",
    "credentials = service_account.Credentials.from_service_account_file(client_file)\n",
    "speech_client = speech.SpeechClient(credentials=credentials)\n"
   ]
  },
  {
   "cell_type": "code",
   "execution_count": 5,
   "metadata": {},
   "outputs": [],
   "source": [
    "data = {\"status\": \"try\"}\n",
    "\n",
    "# Under the root of the database, create a new child node named \"baby_cry_status\"\n",
    "ref.child(\"baby_cry_status\").set(data)"
   ]
  },
  {
   "cell_type": "code",
   "execution_count": 6,
   "metadata": {},
   "outputs": [
    {
     "name": "stderr",
     "output_type": "stream",
     "text": [
      "ALSA lib pcm_dmix.c:999:(snd_pcm_dmix_open) unable to open slave\n",
      "ALSA lib pcm.c:2666:(snd_pcm_open_noupdate) Unknown PCM cards.pcm.rear\n",
      "ALSA lib pcm.c:2666:(snd_pcm_open_noupdate) Unknown PCM cards.pcm.center_lfe\n",
      "ALSA lib pcm.c:2666:(snd_pcm_open_noupdate) Unknown PCM cards.pcm.side\n",
      "ALSA lib pcm_route.c:877:(find_matching_chmap) Found no matching channel map\n",
      "ALSA lib pcm_oss.c:397:(_snd_pcm_oss_open) Cannot open device /dev/dsp\n",
      "ALSA lib pcm_oss.c:397:(_snd_pcm_oss_open) Cannot open device /dev/dsp\n",
      "ALSA lib confmisc.c:160:(snd_config_get_card) Invalid field card\n",
      "ALSA lib pcm_usb_stream.c:482:(_snd_pcm_usb_stream_open) Invalid card 'card'\n",
      "ALSA lib confmisc.c:160:(snd_config_get_card) Invalid field card\n",
      "ALSA lib pcm_usb_stream.c:482:(_snd_pcm_usb_stream_open) Invalid card 'card'\n",
      "ALSA lib pcm_dmix.c:999:(snd_pcm_dmix_open) unable to open slave\n"
     ]
    }
   ],
   "source": [
    "import time\n",
    "from datetime import datetime\n",
    "# Audio Configuration\n",
    "FORMAT = pyaudio.paInt16\n",
    "CHANNELS = 1\n",
    "RATE = 44100\n",
    "CHUNK = 1024\n",
    "RECORD_SECONDS = 5\n",
    "THRESHOLD = 500\n",
    "\n",
    "# Initialize PyAudio\n",
    "paudio = pyaudio.PyAudio()\n",
    "\n",
    "# Firebase function to upload result\n",
    "def upload_result(result):\n",
    "    ref = db.reference()\n",
    "    \n",
    "    # Get the current date and time\n",
    "    now = datetime.now()\n",
    "    current_date  = now.strftime(\"%Y-%m-%d\")\n",
    "    current_time = now.strftime(\"%H:%M:%S\")\n",
    "    \n",
    "    # Update the database\n",
    "    updates = {\n",
    "        \"baby_cry_status/status\": \"cry\" if result == \"Baby is crying\" else \"no cry\",\n",
    "    }\n",
    "    \n",
    "    ref.update(updates)\n",
    "    \n",
    "    # update the list fields\n",
    "    \n",
    "    \n",
    "# Function to process audio data\n",
    "def detect_sound(data):\n",
    "    audio_data = np.frombuffer(data, dtype=np.int16)\n",
    "    energy = np.sum(np.abs(audio_data))\n",
    "    return energy > THRESHOLD\n",
    "\n",
    "\n",
    "# Google Cloud Speech-to-Text API\n",
    "def detect_human_voice(audio_file):\n",
    "    with io.open(audio_file, \"rb\") as audio_file:\n",
    "        content = audio_file.read()\n",
    "        audio = speech.RecognitionAudio(content=content)\n",
    "        \n",
    "    config = speech.RecognitionConfig(\n",
    "        encoding=speech.RecognitionConfig.AudioEncoding.LINEAR16,\n",
    "        language_code=\"en-US\",\n",
    "    )\n",
    "    \n",
    "    response = speech_client.recognize(config=config, audio=audio)\n",
    "    transcript = get_transcript(response)\n",
    "    \n",
    "    return transcript is not None\n",
    "\n",
    "\n",
    "# Extract transcript\n",
    "def get_transcript(response):\n",
    "    if not response.results:\n",
    "        return None # No transcript\n",
    "    \n",
    "    first_result = response.results[0]\n",
    "    if not first_result.alternatives:\n",
    "        return None # No alternatives, no transcript\n",
    "    \n",
    "    \n",
    "    transcript = first_result.alternatives[0].transcript.strip()\n",
    "    return transcript if transcript else None\n",
    "\n",
    "# Function to record audio\n",
    "def record_audio(stream):\n",
    "    print(\"Recording...\")\n",
    "    frames = []\n",
    "    for _ in range(int(RATE / CHUNK * RECORD_SECONDS)):\n",
    "        data = stream.read(CHUNK)\n",
    "        frames.append(data)\n",
    "        \n",
    "    wave_output_filename = \"output.wav\"\n",
    "    wf = wave.open(wave_output_filename, \"wb\")\n",
    "    wf.setnchannels(CHANNELS)\n",
    "    wf.setsampwidth(paudio.get_sample_size(FORMAT))\n",
    "    wf.setframerate(RATE)\n",
    "    wf.writeframes(b\"\".join(frames))\n",
    "    wf.close()\n",
    "    \n",
    "    return wave_output_filename\n",
    "\n",
    " "
   ]
  },
  {
   "cell_type": "code",
   "execution_count": 7,
   "metadata": {},
   "outputs": [],
   "source": [
    "# Main real-time audio proecssing loop\n",
    "def listen_for_baby_cry():\n",
    "    stream = paudio.open(format=FORMAT, channels=CHANNELS, rate=RATE, input=True, frames_per_buffer=CHUNK)\n",
    "    \n",
    "    print(\"Listening for baby cry...\")\n",
    "    \n",
    "    while True:\n",
    "        ref.update({\"RecordStatus\": \"recording\"})\n",
    "        data = stream.read(CHUNK, exception_on_overflow=False)\n",
    "        \n",
    "        if detect_sound(data):\n",
    "            # Record 5-second audio\n",
    "            audio_file = record_audio(stream)\n",
    "            \n",
    "            # Use GOogle cloude API\n",
    "            if detect_human_voice(audio_file):\n",
    "                print(\"Human voice...\")\n",
    "                upload_result(\"Human voice detected\")\n",
    "            else:\n",
    "                print(\"Baby cry...\")\n",
    "                upload_result(\"Baby is crying\")\n",
    "            \n",
    "            while True:\n",
    "                user_input = input(\"Do you wan tto continue recording? (yes/no): \").lower()\n",
    "                if user_input in ['yes', 'no']:\n",
    "                    break\n",
    "                print(\"Invalid input\")\n",
    "                \n",
    "            if user_input == 'no':\n",
    "                print(\"Stopping recording. Goodbye\")\n",
    "                stream.stop_stream()\n",
    "                stream.close()\n",
    "                paudio.terminate()\n",
    "                return\n",
    "        \n"
   ]
  },
  {
   "cell_type": "code",
   "execution_count": 8,
   "metadata": {},
   "outputs": [
    {
     "name": "stdout",
     "output_type": "stream",
     "text": [
      "Listening for baby cry...\n",
      "Recording...\n",
      "Human voice...\n"
     ]
    }
   ],
   "source": [
    "listen_for_baby_cry()"
   ]
  }
 ],
 "metadata": {
  "kernelspec": {
   "display_name": ".venv",
   "language": "python",
   "name": "python3"
  },
  "language_info": {
   "codemirror_mode": {
    "name": "ipython",
    "version": 3
   },
   "file_extension": ".py",
   "mimetype": "text/x-python",
   "name": "python",
   "nbconvert_exporter": "python",
   "pygments_lexer": "ipython3",
   "version": "3.10.12"
  }
 },
 "nbformat": 4,
 "nbformat_minor": 2
}
