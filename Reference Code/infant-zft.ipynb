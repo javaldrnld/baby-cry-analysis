{
 "cells": [
  {
   "cell_type": "code",
   "execution_count": 1,
   "id": "0c973402",
   "metadata": {
    "_cell_guid": "b1076dfc-b9ad-4769-8c92-a6c4dae69d19",
    "_uuid": "8f2839f25d086af736a60e9eeb907d3b93b6e0e5",
    "execution": {
     "iopub.execute_input": "2024-02-11T15:23:24.201593Z",
     "iopub.status.busy": "2024-02-11T15:23:24.201234Z",
     "iopub.status.idle": "2024-02-11T15:23:38.616635Z",
     "shell.execute_reply": "2024-02-11T15:23:38.615797Z"
    },
    "papermill": {
     "duration": 14.423148,
     "end_time": "2024-02-11T15:23:38.619348",
     "exception": false,
     "start_time": "2024-02-11T15:23:24.196200",
     "status": "completed"
    },
    "tags": []
   },
   "outputs": [
    {
     "name": "stderr",
     "output_type": "stream",
     "text": [
      "/opt/conda/lib/python3.10/site-packages/scipy/__init__.py:146: UserWarning: A NumPy version >=1.16.5 and <1.23.0 is required for this version of SciPy (detected version 1.24.3\n",
      "  warnings.warn(f\"A NumPy version >={np_minversion} and <{np_maxversion}\"\n"
     ]
    }
   ],
   "source": [
    "import os\n",
    "import librosa\n",
    "import numpy as np\n",
    "import tensorflow as tf\n",
    "from tensorflow.keras.layers import Input, Conv2D, MaxPooling2D, Flatten, Dense\n",
    "from tensorflow.keras.models import Model\n",
    "from tensorflow.keras.optimizers import Adam\n",
    "from tensorflow.keras.utils import to_categorical\n",
    "from tensorflow.image import resize\n",
    "from tensorflow.keras.models import load_model\n",
    "from sklearn.model_selection import train_test_split"
   ]
  },
  {
   "cell_type": "code",
   "execution_count": null,
   "id": "428f42f6",
   "metadata": {
    "papermill": {
     "duration": 0.003157,
     "end_time": "2024-02-11T15:23:38.626748",
     "exception": false,
     "start_time": "2024-02-11T15:23:38.623591",
     "status": "completed"
    },
    "tags": []
   },
   "outputs": [],
   "source": []
  },
  {
   "cell_type": "code",
   "execution_count": 2,
   "id": "177b0e71",
   "metadata": {
    "execution": {
     "iopub.execute_input": "2024-02-11T15:23:38.635922Z",
     "iopub.status.busy": "2024-02-11T15:23:38.634953Z",
     "iopub.status.idle": "2024-02-11T15:23:38.639476Z",
     "shell.execute_reply": "2024-02-11T15:23:38.638693Z"
    },
    "papermill": {
     "duration": 0.011059,
     "end_time": "2024-02-11T15:23:38.641339",
     "exception": false,
     "start_time": "2024-02-11T15:23:38.630280",
     "status": "completed"
    },
    "tags": []
   },
   "outputs": [],
   "source": [
    "data_dir = '/kaggle/input/infant-cry-audio-corpus/donateacry_corpus'\n",
    "classes = ['belly_pain','burping','discomfort','hungry','tired']"
   ]
  },
  {
   "cell_type": "code",
   "execution_count": 3,
   "id": "0061559a",
   "metadata": {
    "execution": {
     "iopub.execute_input": "2024-02-11T15:23:38.649120Z",
     "iopub.status.busy": "2024-02-11T15:23:38.648844Z",
     "iopub.status.idle": "2024-02-11T15:23:38.655843Z",
     "shell.execute_reply": "2024-02-11T15:23:38.654931Z"
    },
    "papermill": {
     "duration": 0.013088,
     "end_time": "2024-02-11T15:23:38.657815",
     "exception": false,
     "start_time": "2024-02-11T15:23:38.644727",
     "status": "completed"
    },
    "tags": []
   },
   "outputs": [],
   "source": [
    "def load_and_preprocess_data(data_dir, classes, target_shape=(128, 128)):\n",
    "    data = []\n",
    "    labels = []\n",
    "    for i, class_name in enumerate(classes):\n",
    "        class_dir = os.path.join(data_dir, class_name)\n",
    "        for filename in os.listdir(class_dir):\n",
    "            if filename.endswith('.wav'):\n",
    "                file_path = os.path.join(class_dir, filename)\n",
    "                audio_data, sample_rate = librosa.load(file_path, sr=None)\n",
    "                mel_spectrogram = librosa.feature.melspectrogram(y=audio_data, sr=sample_rate)\n",
    "                mel_spectrogram = resize(np.expand_dims(mel_spectrogram, axis=-1), target_shape)\n",
    "                data.append(mel_spectrogram)\n",
    "                labels.append(i)\n",
    "    \n",
    "    return np.array(data), np.array(labels)\n"
   ]
  },
  {
   "cell_type": "code",
   "execution_count": 4,
   "id": "60c91009",
   "metadata": {
    "execution": {
     "iopub.execute_input": "2024-02-11T15:23:38.666313Z",
     "iopub.status.busy": "2024-02-11T15:23:38.665650Z",
     "iopub.status.idle": "2024-02-11T15:24:02.270043Z",
     "shell.execute_reply": "2024-02-11T15:24:02.269005Z"
    },
    "papermill": {
     "duration": 23.611428,
     "end_time": "2024-02-11T15:24:02.272572",
     "exception": false,
     "start_time": "2024-02-11T15:23:38.661144",
     "status": "completed"
    },
    "tags": []
   },
   "outputs": [],
   "source": [
    "data, labels = load_and_preprocess_data(data_dir, classes)\n",
    "labels = to_categorical(labels, num_classes=len(classes))  # Convert labels to one-hot encoding\n",
    "\n",
    "X_train, X_test, y_train, y_test = train_test_split(data, labels, test_size=0.2, random_state=42)"
   ]
  },
  {
   "cell_type": "code",
   "execution_count": 5,
   "id": "e5bcb86b",
   "metadata": {
    "execution": {
     "iopub.execute_input": "2024-02-11T15:24:02.281496Z",
     "iopub.status.busy": "2024-02-11T15:24:02.280525Z",
     "iopub.status.idle": "2024-02-11T15:24:02.457650Z",
     "shell.execute_reply": "2024-02-11T15:24:02.456889Z"
    },
    "papermill": {
     "duration": 0.183718,
     "end_time": "2024-02-11T15:24:02.459943",
     "exception": false,
     "start_time": "2024-02-11T15:24:02.276225",
     "status": "completed"
    },
    "tags": []
   },
   "outputs": [],
   "source": [
    "input_shape = X_train[0].shape\n",
    "input_layer = Input(shape=input_shape)\n",
    "x = Conv2D(32, (3, 3), activation='relu')(input_layer)\n",
    "x = MaxPooling2D((2, 2))(x)\n",
    "x = Conv2D(64, (3, 3), activation='relu')(x)\n",
    "x = MaxPooling2D((2, 2))(x)\n",
    "x = Conv2D(64, (3, 3), activation='relu')(x)\n",
    "x = MaxPooling2D((2, 2))(x)\n",
    "x = Conv2D(64, (3, 3), activation='relu')(x)\n",
    "x = MaxPooling2D((2, 2))(x)\n",
    "x = Conv2D(64, (3, 3), activation='relu')(x)\n",
    "x = MaxPooling2D((2, 2))(x)\n",
    "x = Flatten()(x)\n",
    "x = Dense(64, activation='relu')(x)\n",
    "output_layer = Dense(len(classes), activation='softmax')(x)\n",
    "model = Model(input_layer, output_layer)"
   ]
  },
  {
   "cell_type": "code",
   "execution_count": 6,
   "id": "d38ff9d4",
   "metadata": {
    "execution": {
     "iopub.execute_input": "2024-02-11T15:24:02.468397Z",
     "iopub.status.busy": "2024-02-11T15:24:02.468095Z",
     "iopub.status.idle": "2024-02-11T15:24:02.482159Z",
     "shell.execute_reply": "2024-02-11T15:24:02.481453Z"
    },
    "papermill": {
     "duration": 0.0204,
     "end_time": "2024-02-11T15:24:02.484087",
     "exception": false,
     "start_time": "2024-02-11T15:24:02.463687",
     "status": "completed"
    },
    "tags": []
   },
   "outputs": [],
   "source": [
    "model.compile(optimizer=Adam(learning_rate=0.01), loss='categorical_crossentropy', metrics=['accuracy'])"
   ]
  },
  {
   "cell_type": "code",
   "execution_count": 7,
   "id": "5fefc7ed",
   "metadata": {
    "execution": {
     "iopub.execute_input": "2024-02-11T15:24:02.492108Z",
     "iopub.status.busy": "2024-02-11T15:24:02.491635Z",
     "iopub.status.idle": "2024-02-11T15:24:14.780710Z",
     "shell.execute_reply": "2024-02-11T15:24:14.779752Z"
    },
    "papermill": {
     "duration": 12.295362,
     "end_time": "2024-02-11T15:24:14.782854",
     "exception": false,
     "start_time": "2024-02-11T15:24:02.487492",
     "status": "completed"
    },
    "tags": []
   },
   "outputs": [
    {
     "name": "stdout",
     "output_type": "stream",
     "text": [
      "Epoch 1/30\n",
      "11/11 [==============================] - 7s 97ms/step - loss: 33.6116 - accuracy: 0.4849 - val_loss: 1.2082 - val_accuracy: 0.7826\n",
      "Epoch 2/30\n",
      "11/11 [==============================] - 0s 17ms/step - loss: 1.3283 - accuracy: 0.8466 - val_loss: 0.8939 - val_accuracy: 0.7826\n",
      "Epoch 3/30\n",
      "11/11 [==============================] - 0s 17ms/step - loss: 0.7235 - accuracy: 0.8493 - val_loss: 0.8238 - val_accuracy: 0.7826\n",
      "Epoch 4/30\n",
      "11/11 [==============================] - 0s 17ms/step - loss: 0.6213 - accuracy: 0.8493 - val_loss: 0.8473 - val_accuracy: 0.7826\n",
      "Epoch 5/30\n",
      "11/11 [==============================] - 0s 18ms/step - loss: 0.6115 - accuracy: 0.8493 - val_loss: 0.8234 - val_accuracy: 0.7826\n",
      "Epoch 6/30\n",
      "11/11 [==============================] - 0s 18ms/step - loss: 0.5865 - accuracy: 0.8493 - val_loss: 0.8611 - val_accuracy: 0.7826\n",
      "Epoch 7/30\n",
      "11/11 [==============================] - 0s 17ms/step - loss: 0.5796 - accuracy: 0.8521 - val_loss: 0.8770 - val_accuracy: 0.7826\n",
      "Epoch 8/30\n",
      "11/11 [==============================] - 0s 17ms/step - loss: 0.5517 - accuracy: 0.8575 - val_loss: 0.9989 - val_accuracy: 0.7717\n",
      "Epoch 9/30\n",
      "11/11 [==============================] - 0s 17ms/step - loss: 0.5428 - accuracy: 0.8630 - val_loss: 1.0399 - val_accuracy: 0.7391\n",
      "Epoch 10/30\n",
      "11/11 [==============================] - 0s 17ms/step - loss: 0.5726 - accuracy: 0.8438 - val_loss: 0.9392 - val_accuracy: 0.7826\n",
      "Epoch 11/30\n",
      "11/11 [==============================] - 0s 18ms/step - loss: 0.5974 - accuracy: 0.8521 - val_loss: 0.9905 - val_accuracy: 0.7500\n",
      "Epoch 12/30\n",
      "11/11 [==============================] - 0s 18ms/step - loss: 0.5127 - accuracy: 0.8658 - val_loss: 1.4376 - val_accuracy: 0.7500\n",
      "Epoch 13/30\n",
      "11/11 [==============================] - 0s 17ms/step - loss: 0.5450 - accuracy: 0.8493 - val_loss: 1.3704 - val_accuracy: 0.7609\n",
      "Epoch 14/30\n",
      "11/11 [==============================] - 0s 18ms/step - loss: 0.7194 - accuracy: 0.8466 - val_loss: 0.8635 - val_accuracy: 0.7826\n",
      "Epoch 15/30\n",
      "11/11 [==============================] - 0s 17ms/step - loss: 0.8098 - accuracy: 0.8329 - val_loss: 1.0396 - val_accuracy: 0.7717\n",
      "Epoch 16/30\n",
      "11/11 [==============================] - 0s 18ms/step - loss: 0.6699 - accuracy: 0.8411 - val_loss: 1.0703 - val_accuracy: 0.7717\n",
      "Epoch 17/30\n",
      "11/11 [==============================] - 0s 17ms/step - loss: 0.6527 - accuracy: 0.8493 - val_loss: 0.9495 - val_accuracy: 0.7826\n",
      "Epoch 18/30\n",
      "11/11 [==============================] - 0s 17ms/step - loss: 0.6562 - accuracy: 0.8466 - val_loss: 0.9258 - val_accuracy: 0.7717\n",
      "Epoch 19/30\n",
      "11/11 [==============================] - 0s 18ms/step - loss: 0.5897 - accuracy: 0.8575 - val_loss: 0.8068 - val_accuracy: 0.7826\n",
      "Epoch 20/30\n",
      "11/11 [==============================] - 0s 18ms/step - loss: 0.5620 - accuracy: 0.8603 - val_loss: 1.0136 - val_accuracy: 0.7826\n",
      "Epoch 21/30\n",
      "11/11 [==============================] - 0s 17ms/step - loss: 0.5579 - accuracy: 0.8548 - val_loss: 0.8967 - val_accuracy: 0.7717\n",
      "Epoch 22/30\n",
      "11/11 [==============================] - 0s 17ms/step - loss: 0.5707 - accuracy: 0.8548 - val_loss: 0.8450 - val_accuracy: 0.7826\n",
      "Epoch 23/30\n",
      "11/11 [==============================] - 0s 17ms/step - loss: 0.5579 - accuracy: 0.8575 - val_loss: 0.8305 - val_accuracy: 0.7826\n",
      "Epoch 24/30\n",
      "11/11 [==============================] - 0s 17ms/step - loss: 0.5312 - accuracy: 0.8603 - val_loss: 0.9860 - val_accuracy: 0.7826\n",
      "Epoch 25/30\n",
      "11/11 [==============================] - 0s 17ms/step - loss: 0.5157 - accuracy: 0.8603 - val_loss: 1.0163 - val_accuracy: 0.7826\n",
      "Epoch 26/30\n",
      "11/11 [==============================] - 0s 17ms/step - loss: 0.4909 - accuracy: 0.8630 - val_loss: 1.7333 - val_accuracy: 0.7717\n",
      "Epoch 27/30\n",
      "11/11 [==============================] - 0s 17ms/step - loss: 0.4789 - accuracy: 0.8630 - val_loss: 1.1896 - val_accuracy: 0.7609\n",
      "Epoch 28/30\n",
      "11/11 [==============================] - 0s 17ms/step - loss: 0.4898 - accuracy: 0.8658 - val_loss: 1.2738 - val_accuracy: 0.7717\n",
      "Epoch 29/30\n",
      "11/11 [==============================] - 0s 17ms/step - loss: 0.4725 - accuracy: 0.8685 - val_loss: 1.4584 - val_accuracy: 0.7717\n",
      "Epoch 30/30\n",
      "11/11 [==============================] - 0s 18ms/step - loss: 0.4245 - accuracy: 0.8658 - val_loss: 1.4676 - val_accuracy: 0.7717\n"
     ]
    },
    {
     "data": {
      "text/plain": [
       "<keras.src.callbacks.History at 0x7e8ab92e2ce0>"
      ]
     },
     "execution_count": 7,
     "metadata": {},
     "output_type": "execute_result"
    }
   ],
   "source": [
    "model.fit(X_train, y_train, epochs=30, batch_size=34, validation_data=(X_test, y_test))"
   ]
  },
  {
   "cell_type": "code",
   "execution_count": 8,
   "id": "773767e6",
   "metadata": {
    "execution": {
     "iopub.execute_input": "2024-02-11T15:24:14.815600Z",
     "iopub.status.busy": "2024-02-11T15:24:14.815276Z",
     "iopub.status.idle": "2024-02-11T15:24:14.819069Z",
     "shell.execute_reply": "2024-02-11T15:24:14.818212Z"
    },
    "papermill": {
     "duration": 0.021754,
     "end_time": "2024-02-11T15:24:14.820893",
     "exception": false,
     "start_time": "2024-02-11T15:24:14.799139",
     "status": "completed"
    },
    "tags": []
   },
   "outputs": [],
   "source": [
    "# los, acc = model.evaluate(X_test, y_test)\n",
    "# print(\"Validation Accuracy:\", acc)"
   ]
  },
  {
   "cell_type": "code",
   "execution_count": null,
   "id": "bbba3dbf",
   "metadata": {
    "papermill": {
     "duration": 0.016157,
     "end_time": "2024-02-11T15:24:14.853803",
     "exception": false,
     "start_time": "2024-02-11T15:24:14.837646",
     "status": "completed"
    },
    "tags": []
   },
   "outputs": [],
   "source": []
  }
 ],
 "metadata": {
  "kaggle": {
   "accelerator": "nvidiaTeslaT4",
   "dataSources": [
    {
     "datasetId": 4195468,
     "sourceId": 7243196,
     "sourceType": "datasetVersion"
    }
   ],
   "dockerImageVersionId": 30635,
   "isGpuEnabled": true,
   "isInternetEnabled": true,
   "language": "python",
   "sourceType": "notebook"
  },
  "kernelspec": {
   "display_name": "Python 3",
   "language": "python",
   "name": "python3"
  },
  "language_info": {
   "codemirror_mode": {
    "name": "ipython",
    "version": 3
   },
   "file_extension": ".py",
   "mimetype": "text/x-python",
   "name": "python",
   "nbconvert_exporter": "python",
   "pygments_lexer": "ipython3",
   "version": "3.10.12"
  },
  "papermill": {
   "default_parameters": {},
   "duration": 57.737875,
   "end_time": "2024-02-11T15:24:18.292565",
   "environment_variables": {},
   "exception": null,
   "input_path": "__notebook__.ipynb",
   "output_path": "__notebook__.ipynb",
   "parameters": {},
   "start_time": "2024-02-11T15:23:20.554690",
   "version": "2.4.0"
  }
 },
 "nbformat": 4,
 "nbformat_minor": 5
}
