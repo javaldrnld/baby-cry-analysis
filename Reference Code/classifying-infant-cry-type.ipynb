{
 "cells": [
  {
   "cell_type": "code",
   "execution_count": 1,
   "id": "b6789f7c",
   "metadata": {
    "_kg_hide-output": true,
    "execution": {
     "iopub.execute_input": "2024-02-18T15:30:08.861460Z",
     "iopub.status.busy": "2024-02-18T15:30:08.860751Z",
     "iopub.status.idle": "2024-02-18T15:30:24.464164Z",
     "shell.execute_reply": "2024-02-18T15:30:24.463234Z"
    },
    "id": "CsqXfTpFKKb0",
    "outputId": "75186a06-ec11-4f86-8ac1-3745ebe9eb18",
    "papermill": {
     "duration": 15.611805,
     "end_time": "2024-02-18T15:30:24.466517",
     "exception": false,
     "start_time": "2024-02-18T15:30:08.854712",
     "status": "completed"
    },
    "tags": []
   },
   "outputs": [
    {
     "name": "stdout",
     "output_type": "stream",
     "text": [
      "Collecting librosa==0.9.2\r\n",
      "  Downloading librosa-0.9.2-py3-none-any.whl (214 kB)\r\n",
      "\u001b[2K     \u001b[90m━━━━━━━━━━━━━━━━━━━━━━━━━━━━━━━━━━━━━━━\u001b[0m \u001b[32m214.3/214.3 kB\u001b[0m \u001b[31m1.8 MB/s\u001b[0m eta \u001b[36m0:00:00\u001b[0m\r\n",
      "\u001b[?25hRequirement already satisfied: audioread>=2.1.9 in /opt/conda/lib/python3.10/site-packages (from librosa==0.9.2) (3.0.1)\r\n",
      "Requirement already satisfied: numpy>=1.17.0 in /opt/conda/lib/python3.10/site-packages (from librosa==0.9.2) (1.24.3)\r\n",
      "Requirement already satisfied: scipy>=1.2.0 in /opt/conda/lib/python3.10/site-packages (from librosa==0.9.2) (1.11.4)\r\n",
      "Requirement already satisfied: scikit-learn>=0.19.1 in /opt/conda/lib/python3.10/site-packages (from librosa==0.9.2) (1.2.2)\r\n",
      "Requirement already satisfied: joblib>=0.14 in /opt/conda/lib/python3.10/site-packages (from librosa==0.9.2) (1.3.2)\r\n",
      "Requirement already satisfied: decorator>=4.0.10 in /opt/conda/lib/python3.10/site-packages (from librosa==0.9.2) (5.1.1)\r\n",
      "Collecting resampy>=0.2.2 (from librosa==0.9.2)\r\n",
      "  Downloading resampy-0.4.2-py3-none-any.whl (3.1 MB)\r\n",
      "\u001b[2K     \u001b[90m━━━━━━━━━━━━━━━━━━━━━━━━━━━━━━━━━━━━━━━━\u001b[0m \u001b[32m3.1/3.1 MB\u001b[0m \u001b[31m22.7 MB/s\u001b[0m eta \u001b[36m0:00:00\u001b[0m\r\n",
      "\u001b[?25hRequirement already satisfied: numba>=0.45.1 in /opt/conda/lib/python3.10/site-packages (from librosa==0.9.2) (0.57.1)\r\n",
      "Requirement already satisfied: soundfile>=0.10.2 in /opt/conda/lib/python3.10/site-packages (from librosa==0.9.2) (0.12.1)\r\n",
      "Requirement already satisfied: pooch>=1.0 in /opt/conda/lib/python3.10/site-packages (from librosa==0.9.2) (1.8.0)\r\n",
      "Requirement already satisfied: packaging>=20.0 in /opt/conda/lib/python3.10/site-packages (from librosa==0.9.2) (21.3)\r\n",
      "Requirement already satisfied: llvmlite<0.41,>=0.40.0dev0 in /opt/conda/lib/python3.10/site-packages (from numba>=0.45.1->librosa==0.9.2) (0.40.1)\r\n",
      "Requirement already satisfied: pyparsing!=3.0.5,>=2.0.2 in /opt/conda/lib/python3.10/site-packages (from packaging>=20.0->librosa==0.9.2) (3.0.9)\r\n",
      "Requirement already satisfied: platformdirs>=2.5.0 in /opt/conda/lib/python3.10/site-packages (from pooch>=1.0->librosa==0.9.2) (4.1.0)\r\n",
      "Requirement already satisfied: requests>=2.19.0 in /opt/conda/lib/python3.10/site-packages (from pooch>=1.0->librosa==0.9.2) (2.31.0)\r\n",
      "Requirement already satisfied: threadpoolctl>=2.0.0 in /opt/conda/lib/python3.10/site-packages (from scikit-learn>=0.19.1->librosa==0.9.2) (3.2.0)\r\n",
      "Requirement already satisfied: cffi>=1.0 in /opt/conda/lib/python3.10/site-packages (from soundfile>=0.10.2->librosa==0.9.2) (1.15.1)\r\n",
      "Requirement already satisfied: pycparser in /opt/conda/lib/python3.10/site-packages (from cffi>=1.0->soundfile>=0.10.2->librosa==0.9.2) (2.21)\r\n",
      "Requirement already satisfied: charset-normalizer<4,>=2 in /opt/conda/lib/python3.10/site-packages (from requests>=2.19.0->pooch>=1.0->librosa==0.9.2) (3.2.0)\r\n",
      "Requirement already satisfied: idna<4,>=2.5 in /opt/conda/lib/python3.10/site-packages (from requests>=2.19.0->pooch>=1.0->librosa==0.9.2) (3.4)\r\n",
      "Requirement already satisfied: urllib3<3,>=1.21.1 in /opt/conda/lib/python3.10/site-packages (from requests>=2.19.0->pooch>=1.0->librosa==0.9.2) (1.26.15)\r\n",
      "Requirement already satisfied: certifi>=2017.4.17 in /opt/conda/lib/python3.10/site-packages (from requests>=2.19.0->pooch>=1.0->librosa==0.9.2) (2023.11.17)\r\n",
      "Installing collected packages: resampy, librosa\r\n",
      "  Attempting uninstall: librosa\r\n",
      "    Found existing installation: librosa 0.10.1\r\n",
      "    Uninstalling librosa-0.10.1:\r\n",
      "      Successfully uninstalled librosa-0.10.1\r\n",
      "Successfully installed librosa-0.9.2 resampy-0.4.2\r\n"
     ]
    }
   ],
   "source": [
    "!pip install librosa==0.9.2"
   ]
  },
  {
   "cell_type": "code",
   "execution_count": 2,
   "id": "11d67672",
   "metadata": {
    "execution": {
     "iopub.execute_input": "2024-02-18T15:30:24.479608Z",
     "iopub.status.busy": "2024-02-18T15:30:24.479300Z",
     "iopub.status.idle": "2024-02-18T15:30:46.795751Z",
     "shell.execute_reply": "2024-02-18T15:30:46.794753Z"
    },
    "id": "Pti8RhxqMjTe",
    "papermill": {
     "duration": 22.325552,
     "end_time": "2024-02-18T15:30:46.798112",
     "exception": false,
     "start_time": "2024-02-18T15:30:24.472560",
     "status": "completed"
    },
    "tags": []
   },
   "outputs": [
    {
     "name": "stderr",
     "output_type": "stream",
     "text": [
      "/opt/conda/lib/python3.10/site-packages/scipy/__init__.py:146: UserWarning: A NumPy version >=1.16.5 and <1.23.0 is required for this version of SciPy (detected version 1.24.3\n",
      "  warnings.warn(f\"A NumPy version >={np_minversion} and <{np_maxversion}\"\n"
     ]
    }
   ],
   "source": [
    "import numpy as np\n",
    "import pandas as pd\n",
    "import os\n",
    "import librosa\n",
    "import librosa.display\n",
    "import matplotlib.pyplot as plt\n",
    "from sklearn.model_selection import train_test_split\n",
    "from sklearn.preprocessing import normalize\n",
    "import warnings\n",
    "warnings.filterwarnings('ignore')\n",
    "from sklearn.model_selection import train_test_split\n",
    "import tensorflow\n",
    "from tensorflow.keras.layers import LSTM, Dense"
   ]
  },
  {
   "cell_type": "code",
   "execution_count": 3,
   "id": "1149903e",
   "metadata": {
    "execution": {
     "iopub.execute_input": "2024-02-18T15:30:46.811117Z",
     "iopub.status.busy": "2024-02-18T15:30:46.810576Z",
     "iopub.status.idle": "2024-02-18T15:30:46.818564Z",
     "shell.execute_reply": "2024-02-18T15:30:46.817757Z"
    },
    "id": "Vb4grOJHnfgu",
    "papermill": {
     "duration": 0.016351,
     "end_time": "2024-02-18T15:30:46.820401",
     "exception": false,
     "start_time": "2024-02-18T15:30:46.804050",
     "status": "completed"
    },
    "tags": []
   },
   "outputs": [],
   "source": [
    "def create_spectrogram(audio_file, image_file):\n",
    "    fig = plt.figure()\n",
    "    ax = fig.add_subplot(1, 1, 1)\n",
    "    fig.subplots_adjust(left=0, right=1, bottom=0, top=1)\n",
    "\n",
    "    y, sr = librosa.load(audio_file)\n",
    "    ms = librosa.feature.melspectrogram(y, sr=sr)\n",
    "    log_ms = librosa.power_to_db(ms, ref=np.max)\n",
    "    librosa.display.specshow(log_ms, sr=sr)\n",
    "\n",
    "    fig.savefig(image_file)\n",
    "    plt.close(fig)\n",
    "\n",
    "def create_pngs_from_wavs(input_path, output_path):\n",
    "    if not os.path.exists(output_path):\n",
    "        os.makedirs(output_path)\n",
    "\n",
    "    dir = os.listdir(input_path)\n",
    "\n",
    "    for i, file in enumerate(dir):\n",
    "        input_file = os.path.join(input_path, file)\n",
    "        output_file = os.path.join(output_path, file.replace('.wav', '.png'))\n",
    "        create_spectrogram(input_file, output_file)"
   ]
  },
  {
   "cell_type": "code",
   "execution_count": 4,
   "id": "a9843d80",
   "metadata": {
    "execution": {
     "iopub.execute_input": "2024-02-18T15:30:46.833132Z",
     "iopub.status.busy": "2024-02-18T15:30:46.832468Z",
     "iopub.status.idle": "2024-02-18T15:33:02.237951Z",
     "shell.execute_reply": "2024-02-18T15:33:02.236594Z"
    },
    "id": "99ri3l3-noK7",
    "papermill": {
     "duration": 135.415689,
     "end_time": "2024-02-18T15:33:02.241768",
     "exception": false,
     "start_time": "2024-02-18T15:30:46.826079",
     "status": "completed"
    },
    "tags": []
   },
   "outputs": [],
   "source": [
    "create_pngs_from_wavs('/kaggle/input/infant-cry-audio-corpus/donateacry_corpus/belly_pain', '/kaggle/working/belly_pain')\n",
    "create_pngs_from_wavs('/kaggle/input/infant-cry-audio-corpus/donateacry_corpus/burping', '/kaggle/working/burping')\n",
    "create_pngs_from_wavs('/kaggle/input/infant-cry-audio-corpus/donateacry_corpus/discomfort', '/kaggle/working/discomfort')\n",
    "create_pngs_from_wavs('/kaggle/input/infant-cry-audio-corpus/donateacry_corpus/hungry', '/kaggle/working/hungry')\n",
    "create_pngs_from_wavs('/kaggle/input/infant-cry-audio-corpus/donateacry_corpus/tired', '/kaggle/working/tired')"
   ]
  },
  {
   "cell_type": "code",
   "execution_count": 5,
   "id": "0141286d",
   "metadata": {
    "execution": {
     "iopub.execute_input": "2024-02-18T15:33:02.256133Z",
     "iopub.status.busy": "2024-02-18T15:33:02.255860Z",
     "iopub.status.idle": "2024-02-18T15:33:02.261793Z",
     "shell.execute_reply": "2024-02-18T15:33:02.260915Z"
    },
    "id": "e6VCZhdinzm4",
    "papermill": {
     "duration": 0.014565,
     "end_time": "2024-02-18T15:33:02.263672",
     "exception": false,
     "start_time": "2024-02-18T15:33:02.249107",
     "status": "completed"
    },
    "tags": []
   },
   "outputs": [],
   "source": [
    "x = []\n",
    "y = []\n",
    "\n",
    "from keras.preprocessing import image\n",
    "\n",
    "def load_images_from_path(path, label):\n",
    "    images = []\n",
    "    labels = []\n",
    "\n",
    "    for file in os.listdir(path):\n",
    "        images.append(image.img_to_array(image.load_img(os.path.join(path, file), target_size=(224, 224, 3))))\n",
    "        labels.append((label))\n",
    "\n",
    "    return images, labels"
   ]
  },
  {
   "cell_type": "code",
   "execution_count": 6,
   "id": "7abaa9cf",
   "metadata": {
    "execution": {
     "iopub.execute_input": "2024-02-18T15:33:02.276907Z",
     "iopub.status.busy": "2024-02-18T15:33:02.276120Z",
     "iopub.status.idle": "2024-02-18T15:33:02.306863Z",
     "shell.execute_reply": "2024-02-18T15:33:02.305840Z"
    },
    "id": "IqABUS4SubDU",
    "outputId": "03a5bcf4-4140-4d80-9ffd-447eee31920c",
    "papermill": {
     "duration": 0.039271,
     "end_time": "2024-02-18T15:33:02.308877",
     "exception": false,
     "start_time": "2024-02-18T15:33:02.269606",
     "status": "completed"
    },
    "tags": []
   },
   "outputs": [
    {
     "name": "stdout",
     "output_type": "stream",
     "text": [
      "Directory '/kaggle/working/belly_pain_train/' created successfully.\n",
      "Directory '/kaggle/working/burping_train/' created successfully.\n",
      "Directory '/kaggle/working/discomfort_train/' created successfully.\n",
      "Directory '/kaggle/working/hungry_train/' created successfully.\n",
      "Directory '/kaggle/working/tired_train/' created successfully.\n"
     ]
    }
   ],
   "source": [
    "import glob\n",
    "import shutil\n",
    "\n",
    "def move_files(source_pattern, destination_path):\n",
    "    if not os.path.exists(destination_path):\n",
    "        os.makedirs(destination_path)\n",
    "        print(f\"Directory '{destination_path}' created successfully.\")\n",
    "    else:\n",
    "        print(f\"Directory '{destination_path}' already exists.\")\n",
    "\n",
    "    files_to_move = glob.glob(source_pattern)\n",
    "    for file_path in files_to_move[:-1]:\n",
    "        shutil.move(file_path, destination_path)\n",
    "\n",
    "# Define your directories and source patterns\n",
    "directories = {\n",
    "    '/kaggle/working/belly_pain_train/': '/kaggle/working/belly_pain/*.png',\n",
    "    '/kaggle/working/burping_train/': '/kaggle/working/burping/*.png',\n",
    "    '/kaggle/working/discomfort_train/': '/kaggle/working/discomfort/*.png',\n",
    "    '/kaggle/working/hungry_train/': '/kaggle/working/hungry/*.png',\n",
    "    '/kaggle/working/tired_train/': '/kaggle/working/tired/*.png'\n",
    "}\n",
    "\n",
    "# Loop through the directories and move the files\n",
    "for directory, source_pattern in directories.items():\n",
    "    move_files(source_pattern, directory)"
   ]
  },
  {
   "cell_type": "code",
   "execution_count": 7,
   "id": "d6b9b97d",
   "metadata": {
    "execution": {
     "iopub.execute_input": "2024-02-18T15:33:02.321730Z",
     "iopub.status.busy": "2024-02-18T15:33:02.321103Z",
     "iopub.status.idle": "2024-02-18T15:33:05.985343Z",
     "shell.execute_reply": "2024-02-18T15:33:05.984569Z"
    },
    "id": "j3lWFbHdn2ca",
    "papermill": {
     "duration": 3.673033,
     "end_time": "2024-02-18T15:33:05.987651",
     "exception": false,
     "start_time": "2024-02-18T15:33:02.314618",
     "status": "completed"
    },
    "tags": []
   },
   "outputs": [],
   "source": [
    "images, labels = load_images_from_path('/kaggle/working/belly_pain_train', 0)\n",
    "\n",
    "x += images\n",
    "y += labels\n",
    "\n",
    "images, labels = load_images_from_path('/kaggle/working/burping_train', 1)\n",
    "\n",
    "x += images\n",
    "y += labels\n",
    "\n",
    "images, labels = load_images_from_path('/kaggle/working/discomfort_train', 2)\n",
    "\n",
    "x += images\n",
    "y += labels\n",
    "\n",
    "images, labels = load_images_from_path('/kaggle/working/hungry_train', 3)\n",
    "\n",
    "x += images\n",
    "y += labels\n",
    "\n",
    "images, labels = load_images_from_path('/kaggle/working/tired_train', 4)\n",
    "\n",
    "x += images\n",
    "y += labels"
   ]
  },
  {
   "cell_type": "code",
   "execution_count": 8,
   "id": "61b2b437",
   "metadata": {
    "execution": {
     "iopub.execute_input": "2024-02-18T15:33:06.001251Z",
     "iopub.status.busy": "2024-02-18T15:33:06.000500Z",
     "iopub.status.idle": "2024-02-18T15:33:06.113937Z",
     "shell.execute_reply": "2024-02-18T15:33:06.113052Z"
    },
    "id": "wtkszY8-n3-I",
    "papermill": {
     "duration": 0.122523,
     "end_time": "2024-02-18T15:33:06.116349",
     "exception": false,
     "start_time": "2024-02-18T15:33:05.993826",
     "status": "completed"
    },
    "tags": []
   },
   "outputs": [],
   "source": [
    "from tensorflow.keras.utils import to_categorical\n",
    "from sklearn.model_selection import train_test_split\n",
    "\n",
    "x_train, x_test, y_train, y_test = train_test_split(x, y, test_size=0.2, random_state=0)\n",
    "\n",
    "x_train_norm = np.array(x_train) / 255\n",
    "x_test_norm = np.array(x_test) / 255\n",
    "\n",
    "y_train_encoded = to_categorical(y_train)\n",
    "y_test_encoded = to_categorical(y_test)"
   ]
  },
  {
   "cell_type": "code",
   "execution_count": 9,
   "id": "77f63c55",
   "metadata": {
    "execution": {
     "iopub.execute_input": "2024-02-18T15:33:06.129785Z",
     "iopub.status.busy": "2024-02-18T15:33:06.129266Z",
     "iopub.status.idle": "2024-02-18T15:33:07.964196Z",
     "shell.execute_reply": "2024-02-18T15:33:07.963220Z"
    },
    "id": "oa1b9vgEn6kG",
    "outputId": "9e90d311-00b1-420e-ca68-5998e7dea087",
    "papermill": {
     "duration": 1.851744,
     "end_time": "2024-02-18T15:33:07.974107",
     "exception": false,
     "start_time": "2024-02-18T15:33:06.122363",
     "status": "completed"
    },
    "tags": []
   },
   "outputs": [
    {
     "name": "stdout",
     "output_type": "stream",
     "text": [
      "Model: \"sequential\"\n",
      "_________________________________________________________________\n",
      " Layer (type)                Output Shape              Param #   \n",
      "=================================================================\n",
      " resizing (Resizing)         (None, 64, 64, 3)         0         \n",
      "                                                                 \n",
      " normalization (Normalizati  (None, 64, 64, 3)         7         \n",
      " on)                                                             \n",
      "                                                                 \n",
      " conv2d (Conv2D)             (None, 62, 62, 64)        1792      \n",
      "                                                                 \n",
      " conv2d_1 (Conv2D)           (None, 60, 60, 128)       73856     \n",
      "                                                                 \n",
      " max_pooling2d (MaxPooling2  (None, 30, 30, 128)       0         \n",
      " D)                                                              \n",
      "                                                                 \n",
      " dropout (Dropout)           (None, 30, 30, 128)       0         \n",
      "                                                                 \n",
      " flatten (Flatten)           (None, 115200)            0         \n",
      "                                                                 \n",
      " random_fourier_features (R  (None, 5)                 576006    \n",
      " andomFourierFeatures)                                           \n",
      "                                                                 \n",
      "=================================================================\n",
      "Total params: 651661 (2.49 MB)\n",
      "Trainable params: 75648 (295.50 KB)\n",
      "Non-trainable params: 576013 (2.20 MB)\n",
      "_________________________________________________________________\n"
     ]
    }
   ],
   "source": [
    "from tensorflow.keras.models import Sequential\n",
    "from tensorflow.keras.layers import Conv2D, MaxPooling2D,Flatten, Dense, Dropout,Normalization,Resizing,InputLayer\n",
    "from tensorflow.keras.layers.experimental import RandomFourierFeatures\n",
    "from tensorflow.keras.optimizers import Adam,Adafactor,AdamW,Lion\n",
    "from tensorflow.keras.optimizers.experimental import Adadelta,Adagrad,Adamax,RMSprop,SGD,Nadam,Ftrl\n",
    "\n",
    "model = Sequential()\n",
    "model.add(InputLayer(input_shape=(224, 224, 3)))\n",
    "model.add(Resizing(64,64))\n",
    "model.add(Normalization())\n",
    "model.add(Conv2D(64, 3, strides=1, activation='relu'))\n",
    "model.add(Conv2D(128, 3, strides=1, activation='relu'))\n",
    "model.add(MaxPooling2D(2, 2))\n",
    "model.add(Dropout(0.2))\n",
    "model.add(Flatten())\n",
    "model.add(RandomFourierFeatures(5))\n",
    "model.compile(optimizer=AdamW(lr=0.01), loss='categorical_crossentropy', metrics=['accuracy'])\n",
    "model.summary()"
   ]
  },
  {
   "cell_type": "code",
   "execution_count": 10,
   "id": "dfb1d11b",
   "metadata": {
    "execution": {
     "iopub.execute_input": "2024-02-18T15:33:07.992038Z",
     "iopub.status.busy": "2024-02-18T15:33:07.991469Z",
     "iopub.status.idle": "2024-02-18T15:33:32.387902Z",
     "shell.execute_reply": "2024-02-18T15:33:32.386878Z"
    },
    "id": "AB8UY1DgseoL",
    "outputId": "c1694b58-9705-4b2e-9618-745560f9c867",
    "papermill": {
     "duration": 24.408057,
     "end_time": "2024-02-18T15:33:32.390191",
     "exception": false,
     "start_time": "2024-02-18T15:33:07.982134",
     "status": "completed"
    },
    "tags": []
   },
   "outputs": [
    {
     "name": "stdout",
     "output_type": "stream",
     "text": [
      "Epoch 1/50\n"
     ]
    },
    {
     "name": "stderr",
     "output_type": "stream",
     "text": [
      "2024-02-18 15:33:09.305699: E tensorflow/core/grappler/optimizers/meta_optimizer.cc:954] layout failed: INVALID_ARGUMENT: Size of values 0 does not match size of permutation 4 @ fanin shape insequential/dropout/dropout/SelectV2-2-TransposeNHWCToNCHW-LayoutOptimizer\n"
     ]
    },
    {
     "name": "stdout",
     "output_type": "stream",
     "text": [
      "12/12 [==============================] - 6s 92ms/step - loss: 14.6447 - accuracy: 0.0139 - val_loss: 14.3469 - val_accuracy: 0.0220 - lr: 0.0010\n",
      "Epoch 2/50\n",
      "12/12 [==============================] - 0s 31ms/step - loss: 14.7786 - accuracy: 0.0139 - val_loss: 14.3469 - val_accuracy: 0.0220 - lr: 0.0010\n",
      "Epoch 3/50\n",
      "12/12 [==============================] - 0s 31ms/step - loss: 14.2848 - accuracy: 0.0139 - val_loss: 14.1756 - val_accuracy: 0.0220 - lr: 0.0010\n",
      "Epoch 4/50\n",
      "12/12 [==============================] - 0s 31ms/step - loss: 13.7553 - accuracy: 0.0139 - val_loss: 14.1698 - val_accuracy: 0.0220 - lr: 0.0010\n",
      "Epoch 5/50\n",
      "12/12 [==============================] - 0s 30ms/step - loss: 12.5913 - accuracy: 0.0305 - val_loss: 13.8155 - val_accuracy: 0.0220 - lr: 0.0010\n",
      "Epoch 6/50\n",
      "12/12 [==============================] - 0s 30ms/step - loss: 11.2068 - accuracy: 0.0443 - val_loss: 11.8672 - val_accuracy: 0.0220 - lr: 0.0010\n",
      "Epoch 7/50\n",
      "12/12 [==============================] - 0s 31ms/step - loss: 9.7334 - accuracy: 0.0609 - val_loss: 9.7417 - val_accuracy: 0.0220 - lr: 0.0010\n",
      "Epoch 8/50\n",
      "12/12 [==============================] - 0s 31ms/step - loss: 8.8850 - accuracy: 0.0609 - val_loss: 9.5646 - val_accuracy: 0.0220 - lr: 0.0010\n",
      "Epoch 9/50\n",
      "12/12 [==============================] - 0s 29ms/step - loss: 3.9325 - accuracy: 0.2659 - val_loss: 0.8983 - val_accuracy: 0.2747 - lr: 0.0010\n",
      "Epoch 10/50\n",
      "12/12 [==============================] - 0s 29ms/step - loss: 1.8057 - accuracy: 0.3878 - val_loss: 0.8872 - val_accuracy: 0.6703 - lr: 0.0010\n",
      "Epoch 11/50\n",
      "12/12 [==============================] - 0s 30ms/step - loss: 2.0181 - accuracy: 0.5319 - val_loss: 0.8865 - val_accuracy: 0.6703 - lr: 0.0010\n",
      "Epoch 12/50\n",
      "12/12 [==============================] - 0s 30ms/step - loss: 2.3263 - accuracy: 0.5623 - val_loss: 1.0627 - val_accuracy: 0.7143 - lr: 0.0010\n",
      "Epoch 13/50\n",
      "12/12 [==============================] - 0s 30ms/step - loss: 2.1446 - accuracy: 0.6177 - val_loss: 1.0627 - val_accuracy: 0.7253 - lr: 0.0010\n",
      "Epoch 14/50\n",
      "12/12 [==============================] - 0s 30ms/step - loss: 2.4559 - accuracy: 0.6565 - val_loss: 1.0627 - val_accuracy: 0.7253 - lr: 0.0010\n",
      "Epoch 15/50\n",
      "12/12 [==============================] - 0s 30ms/step - loss: 2.5906 - accuracy: 0.6620 - val_loss: 1.0627 - val_accuracy: 0.7253 - lr: 0.0010\n",
      "Epoch 16/50\n",
      "12/12 [==============================] - 0s 30ms/step - loss: 2.8138 - accuracy: 0.6648 - val_loss: 1.4170 - val_accuracy: 0.7692 - lr: 0.0010\n",
      "Epoch 17/50\n",
      "12/12 [==============================] - 0s 29ms/step - loss: 3.7517 - accuracy: 0.6676 - val_loss: 1.5941 - val_accuracy: 0.7802 - lr: 0.0010\n",
      "Epoch 18/50\n",
      "12/12 [==============================] - 0s 30ms/step - loss: 3.7505 - accuracy: 0.7036 - val_loss: 2.1255 - val_accuracy: 0.7912 - lr: 0.0010\n",
      "Epoch 19/50\n",
      "12/12 [==============================] - 0s 30ms/step - loss: 4.9623 - accuracy: 0.7147 - val_loss: 4.6052 - val_accuracy: 0.7253 - lr: 0.0010\n",
      "Epoch 20/50\n",
      "12/12 [==============================] - 0s 30ms/step - loss: 8.5106 - accuracy: 0.6122 - val_loss: 14.2510 - val_accuracy: 0.6593 - lr: 0.0010\n",
      "Epoch 21/50\n",
      "12/12 [==============================] - 0s 30ms/step - loss: 13.7887 - accuracy: 0.3435 - val_loss: 14.1858 - val_accuracy: 0.0220 - lr: 0.0010\n",
      "Epoch 22/50\n",
      "12/12 [==============================] - 0s 30ms/step - loss: 13.7688 - accuracy: 0.1579 - val_loss: 14.1698 - val_accuracy: 0.0220 - lr: 0.0010\n",
      "Epoch 23/50\n",
      "12/12 [==============================] - 0s 31ms/step - loss: 13.6193 - accuracy: 0.0997 - val_loss: 14.1698 - val_accuracy: 0.0220 - lr: 0.0010\n",
      "Epoch 24/50\n",
      "12/12 [==============================] - 0s 30ms/step - loss: 12.9037 - accuracy: 0.0997 - val_loss: 14.1698 - val_accuracy: 0.0220 - lr: 0.0010\n",
      "Epoch 25/50\n",
      "12/12 [==============================] - 0s 30ms/step - loss: 13.1268 - accuracy: 0.1080 - val_loss: 14.1698 - val_accuracy: 0.0220 - lr: 0.0010\n",
      "Epoch 26/50\n",
      "12/12 [==============================] - 0s 30ms/step - loss: 12.5016 - accuracy: 0.0886 - val_loss: 14.1698 - val_accuracy: 0.0220 - lr: 0.0010\n",
      "Epoch 27/50\n",
      "12/12 [==============================] - 0s 30ms/step - loss: 12.8588 - accuracy: 0.1080 - val_loss: 14.1698 - val_accuracy: 0.0220 - lr: 0.0010\n",
      "Epoch 28/50\n",
      "12/12 [==============================] - 0s 31ms/step - loss: 12.4569 - accuracy: 0.1302 - val_loss: 14.1698 - val_accuracy: 0.0220 - lr: 0.0010\n",
      "Epoch 29/50\n",
      "12/12 [==============================] - 0s 30ms/step - loss: 12.7696 - accuracy: 0.1136 - val_loss: 14.1698 - val_accuracy: 0.0220 - lr: 0.0010\n",
      "Epoch 30/50\n",
      "12/12 [==============================] - 0s 30ms/step - loss: 12.1444 - accuracy: 0.1330 - val_loss: 14.1698 - val_accuracy: 0.0220 - lr: 0.0010\n",
      "Epoch 31/50\n",
      "12/12 [==============================] - 0s 30ms/step - loss: 11.8765 - accuracy: 0.1385 - val_loss: 14.1698 - val_accuracy: 0.0220 - lr: 0.0010\n",
      "Epoch 32/50\n",
      "12/12 [==============================] - 0s 30ms/step - loss: 12.0104 - accuracy: 0.1219 - val_loss: 14.1698 - val_accuracy: 0.0220 - lr: 0.0010\n",
      "Epoch 33/50\n",
      "12/12 [==============================] - 0s 30ms/step - loss: 12.1446 - accuracy: 0.1219 - val_loss: 14.1698 - val_accuracy: 0.0220 - lr: 0.0010\n",
      "Epoch 34/50\n",
      "12/12 [==============================] - 0s 30ms/step - loss: 12.1444 - accuracy: 0.1385 - val_loss: 14.1698 - val_accuracy: 0.0220 - lr: 0.0010\n",
      "Epoch 35/50\n",
      "12/12 [==============================] - 0s 31ms/step - loss: 11.7425 - accuracy: 0.1219 - val_loss: 14.1698 - val_accuracy: 0.0220 - lr: 0.0010\n",
      "Epoch 36/50\n",
      "12/12 [==============================] - 0s 31ms/step - loss: 11.9211 - accuracy: 0.1219 - val_loss: 14.1698 - val_accuracy: 0.0220 - lr: 0.0010\n",
      "Epoch 37/50\n",
      "12/12 [==============================] - 0s 30ms/step - loss: 11.4752 - accuracy: 0.1496 - val_loss: 14.1698 - val_accuracy: 0.0220 - lr: 0.0010\n",
      "Epoch 38/50\n",
      "12/12 [==============================] - 0s 30ms/step - loss: 10.7156 - accuracy: 0.1247 - val_loss: 13.9926 - val_accuracy: 0.0220 - lr: 0.0010\n",
      "Epoch 39/50\n",
      "12/12 [==============================] - 0s 30ms/step - loss: 10.7166 - accuracy: 0.1607 - val_loss: 13.9926 - val_accuracy: 0.0220 - lr: 0.0010\n",
      "Epoch 40/50\n",
      "12/12 [==============================] - 0s 30ms/step - loss: 10.4924 - accuracy: 0.1496 - val_loss: 13.9926 - val_accuracy: 0.0220 - lr: 0.0010\n",
      "Epoch 41/50\n",
      "12/12 [==============================] - 0s 29ms/step - loss: 10.0013 - accuracy: 0.1551 - val_loss: 13.9926 - val_accuracy: 0.0220 - lr: 0.0010\n",
      "Epoch 42/50\n",
      "12/12 [==============================] - 0s 30ms/step - loss: 10.9835 - accuracy: 0.1413 - val_loss: 13.9926 - val_accuracy: 0.0220 - lr: 0.0010\n",
      "Epoch 43/50\n",
      "12/12 [==============================] - 0s 31ms/step - loss: 9.4208 - accuracy: 0.1579 - val_loss: 13.9926 - val_accuracy: 0.0220 - lr: 0.0010\n",
      "Epoch 44/50\n",
      "12/12 [==============================] - 0s 30ms/step - loss: 10.4924 - accuracy: 0.1717 - val_loss: 13.9926 - val_accuracy: 0.0220 - lr: 0.0010\n",
      "Epoch 45/50\n",
      "12/12 [==============================] - 0s 30ms/step - loss: 8.1707 - accuracy: 0.2327 - val_loss: 4.7823 - val_accuracy: 0.1758 - lr: 0.0010\n",
      "Epoch 46/50\n",
      "12/12 [==============================] - 0s 29ms/step - loss: 6.6526 - accuracy: 0.2909 - val_loss: 3.0111 - val_accuracy: 0.2527 - lr: 0.0010\n",
      "Epoch 47/50\n",
      "12/12 [==============================] - 0s 29ms/step - loss: 5.3132 - accuracy: 0.3075 - val_loss: 2.4797 - val_accuracy: 0.2967 - lr: 0.0010\n",
      "Epoch 48/50\n",
      "12/12 [==============================] - 0s 30ms/step - loss: 5.4918 - accuracy: 0.3158 - val_loss: 2.4797 - val_accuracy: 0.3077 - lr: 0.0010\n",
      "Epoch 49/50\n",
      "12/12 [==============================] - 0s 29ms/step - loss: 3.9611 - accuracy: 0.3407 - val_loss: 0.8859 - val_accuracy: 0.1319 - lr: 0.0010\n",
      "Epoch 50/50\n",
      "12/12 [==============================] - 0s 29ms/step - loss: 2.2457 - accuracy: 0.0776 - val_loss: 0.9384 - val_accuracy: 0.0769 - lr: 0.0010\n"
     ]
    }
   ],
   "source": [
    "from tensorflow.keras.callbacks import ReduceLROnPlateau\n",
    "reduce_lr = ReduceLROnPlateau(monitor='val_accuracy',\n",
    "                              factor=0.5,\n",
    "                              patience=2,\n",
    "                              min_lr=0.006,\n",
    "                              verbose=1)\n",
    "\n",
    "hist = model.fit(x_train_norm, y_train_encoded, validation_data=(x_test_norm, y_test_encoded), epochs=50,callbacks=[reduce_lr])"
   ]
  },
  {
   "cell_type": "code",
   "execution_count": 11,
   "id": "f91f6430",
   "metadata": {
    "execution": {
     "iopub.execute_input": "2024-02-18T15:33:32.466004Z",
     "iopub.status.busy": "2024-02-18T15:33:32.465687Z",
     "iopub.status.idle": "2024-02-18T15:33:32.800690Z",
     "shell.execute_reply": "2024-02-18T15:33:32.799758Z"
    },
    "id": "6lgzf5RIn-m-",
    "outputId": "6ebd621c-9c91-4a5d-ec3b-3989e7badaf9",
    "papermill": {
     "duration": 0.374495,
     "end_time": "2024-02-18T15:33:32.802773",
     "exception": false,
     "start_time": "2024-02-18T15:33:32.428278",
     "status": "completed"
    },
    "tags": []
   },
   "outputs": [
    {
     "data": {
      "image/png": "[encoded data removed]",
      "text/plain": [
       "<Figure size 640x480 with 1 Axes>"
      ]
     },
     "metadata": {},
     "output_type": "display_data"
    }
   ],
   "source": [
    "acc = hist.history['accuracy']\n",
    "val_acc = hist.history['val_accuracy']\n",
    "epochs = range(1, len(acc) + 1)\n",
    "\n",
    "plt.plot(epochs, acc, '-', label='Training Accuracy')\n",
    "plt.plot(epochs, val_acc, ':', label='Validation Accuracy')\n",
    "plt.title('Training and Validation Accuracy')\n",
    "plt.xlabel('Epoch')\n",
    "plt.ylabel('Accuracy')\n",
    "plt.legend(loc='lower right')\n",
    "plt.plot()\n",
    "plt.show()"
   ]
  },
  {
   "cell_type": "code",
   "execution_count": 12,
   "id": "c41e9698",
   "metadata": {
    "execution": {
     "iopub.execute_input": "2024-02-18T15:33:32.876743Z",
     "iopub.status.busy": "2024-02-18T15:33:32.876210Z",
     "iopub.status.idle": "2024-02-18T15:33:33.472211Z",
     "shell.execute_reply": "2024-02-18T15:33:33.471083Z"
    },
    "papermill": {
     "duration": 0.635151,
     "end_time": "2024-02-18T15:33:33.474378",
     "exception": false,
     "start_time": "2024-02-18T15:33:32.839227",
     "status": "completed"
    },
    "tags": []
   },
   "outputs": [
    {
     "name": "stdout",
     "output_type": "stream",
     "text": [
      "1/1 [==============================] - 0s 256ms/step\n",
      "1/1 [==============================] - 0s 25ms/step\n",
      "1/1 [==============================] - 0s 19ms/step\n",
      "1/1 [==============================] - 0s 22ms/step\n",
      "1/1 [==============================] - 0s 21ms/step\n",
      "\n",
      "\n",
      "Original:belly_pain Predicted: belly pain\n",
      "\n",
      "\n",
      "Original:burping Predicted: hungry\n",
      "\n",
      "\n",
      "Original:discomfort Predicted: discomfort\n",
      "\n",
      "\n",
      "Original:hungry Predicted: discomfort\n",
      "\n",
      "\n",
      "Original:tired Predicted: hungry\n",
      "\n",
      "\n"
     ]
    }
   ],
   "source": [
    "import glob\n",
    "import os\n",
    "\n",
    "def get_png_files(directory):\n",
    "    folders = ['belly_pain', 'burping', 'discomfort', 'hungry', 'tired'] \n",
    "    png_files = []\n",
    "\n",
    "    for folder_name in folders:\n",
    "        folder_path = os.path.join(directory, folder_name)\n",
    "        if os.path.exists(folder_path):\n",
    "            png_files.extend(glob.glob(os.path.join(folder_path, '*.png')))\n",
    "        else:\n",
    "            print(f\"Folder '{folder_name}' does not exist in '{directory}'.\")\n",
    "\n",
    "    return png_files\n",
    "\n",
    "directory_path = '/kaggle/working/' \n",
    "png_files_list = get_png_files(directory_path)\n",
    "\n",
    "results = []\n",
    "for file_path in png_files_list:\n",
    "    x = image.load_img(file_path, target_size=(224, 224))\n",
    "\n",
    "    x = image.img_to_array(x)\n",
    "    x = np.expand_dims(x, axis=0)\n",
    "\n",
    "    y = model.predict(x)\n",
    "\n",
    "    class_labels = ['belly pain','burping','discomfort','hungry','tired']\n",
    "\n",
    "    # for i, label in enumerate(class_labels):\n",
    "    #     print(f'{label}: {y[0][i]}')\n",
    "\n",
    "    results.append(f\"Original:{file_path.split('/')[3]} Predicted: {class_labels[np.argmax(y)]}\")\n",
    "    \n",
    "print('\\n')\n",
    "\n",
    "for i in results:\n",
    "    print(i)\n",
    "    print('\\n')"
   ]
  }
 ],
 "metadata": {
  "accelerator": "GPU",
  "colab": {
   "collapsed_sections": [
    "99FRzLHUzvjR",
    "Yd64T_vhz0qK",
    "ZbKrHG-CqOsv"
   ],
   "gpuType": "T4",
   "provenance": []
  },
  "kaggle": {
   "accelerator": "nvidiaTeslaT4",
   "dataSources": [
    {
     "datasetId": 4195468,
     "sourceId": 7243196,
     "sourceType": "datasetVersion"
    }
   ],
   "dockerImageVersionId": 30627,
   "isGpuEnabled": true,
   "isInternetEnabled": true,
   "language": "python",
   "sourceType": "notebook"
  },
  "kernelspec": {
   "display_name": "Python 3",
   "language": "python",
   "name": "python3"
  },
  "language_info": {
   "codemirror_mode": {
    "name": "ipython",
    "version": 3
   },
   "file_extension": ".py",
   "mimetype": "text/x-python",
   "name": "python",
   "nbconvert_exporter": "python",
   "pygments_lexer": "ipython3",
   "version": "3.10.12"
  },
  "papermill": {
   "default_parameters": {},
   "duration": 212.526536,
   "end_time": "2024-02-18T15:33:36.679166",
   "environment_variables": {},
   "exception": null,
   "input_path": "__notebook__.ipynb",
   "output_path": "__notebook__.ipynb",
   "parameters": {},
   "start_time": "2024-02-18T15:30:04.152630",
   "version": "2.4.0"
  }
 },
 "nbformat": 4,
 "nbformat_minor": 5
}
